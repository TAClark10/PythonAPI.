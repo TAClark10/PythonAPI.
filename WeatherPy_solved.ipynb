{
 "cells": [
  {
   "cell_type": "markdown",
   "metadata": {
    "id": "L6SnotH6cZnE"
   },
   "source": [
    "# WeatherPy\n",
    "----\n",
    "\n",
    "#### Note\n",
    "* Instructions have been included for each segment. You do not have to follow them exactly, but they are included to help you think through the steps."
   ]
  },
  {
   "cell_type": "code",
   "execution_count": 9,
   "metadata": {
    "colab": {
     "base_uri": "https://localhost:8080/"
    },
    "id": "qTd6yItqcZnJ",
    "outputId": "d81c591b-aada-4ee7-cfa5-3f2c61bf59cd"
   },
   "outputs": [
    {
     "name": "stdout",
     "output_type": "stream",
     "text": [
      "Collecting citipy\n",
      "  Downloading citipy-0.0.5.tar.gz (557 kB)\n",
      "\u001b[K     |████████████████████████████████| 557 kB 4.2 MB/s \n",
      "\u001b[?25hCollecting kdtree>=0.12\n",
      "  Downloading kdtree-0.16-py2.py3-none-any.whl (7.7 kB)\n",
      "Building wheels for collected packages: citipy\n",
      "  Building wheel for citipy (setup.py) ... \u001b[?25l\u001b[?25hdone\n",
      "  Created wheel for citipy: filename=citipy-0.0.5-py3-none-any.whl size=559700 sha256=6b4e789a1045448dde08266175684ddf377c03ce4c47bd687f5f5e855e812fd9\n",
      "  Stored in directory: /root/.cache/pip/wheels/72/ae/63/5d03cf6dfe5c0e9328fb73f8b30da1948a06b9cceaf2c68d2d\n",
      "Successfully built citipy\n",
      "Installing collected packages: kdtree, citipy\n",
      "Successfully installed citipy-0.0.5 kdtree-0.16\n"
     ]
    }
   ],
   "source": [
    "pip install citipy"
   ]
  },
  {
   "cell_type": "code",
   "execution_count": 7,
   "metadata": {
    "colab": {
     "base_uri": "https://localhost:8080/"
    },
    "id": "vOtwvrEYcdzR",
    "outputId": "1f5d3fb0-bffb-4e08-f4dd-816385672208"
   },
   "outputs": [
    {
     "name": "stdout",
     "output_type": "stream",
     "text": [
      "/content/Python-APIsHW/Instructions/starter_code\n"
     ]
    }
   ],
   "source": [
    "#!unzip Python-APIsHW.zip\n",
    "%cd Python-APIsHW/Instructions/starter_code"
   ]
  },
  {
   "cell_type": "code",
   "execution_count": 11,
   "metadata": {
    "id": "eZF0II63cZnK",
    "scrolled": true
   },
   "outputs": [],
   "source": [
    "# Dependencies and Setup\n",
    "import matplotlib.pyplot as plt\n",
    "import pandas as pd\n",
    "import numpy as np\n",
    "import requests\n",
    "import time\n",
    "from scipy.stats import linregress\n",
    "import datetime as dt\n",
    "# Import API key\n",
    "from api_keys import weather_api_key\n",
    "\n",
    "# Incorporated citipy to determine city based on latitude and longitude\n",
    "from citipy import citipy\n",
    "\n",
    "# Output File (CSV)\n",
    "output_data_file = \"../output_data/cities.csv\"\n",
    "\n",
    "# Range of latitudes and longitudes\n",
    "lat_range = (-90, 90)\n",
    "lng_range = (-180, 180)"
   ]
  },
  {
   "cell_type": "markdown",
   "metadata": {
    "id": "KrRjkC9rcZnM"
   },
   "source": [
    "## Generate Cities List"
   ]
  },
  {
   "cell_type": "code",
   "execution_count": 12,
   "metadata": {
    "colab": {
     "base_uri": "https://localhost:8080/"
    },
    "id": "19UZBkqZcZnM",
    "outputId": "2b2cb174-7c5a-47fe-b850-757890b2e212"
   },
   "outputs": [
    {
     "data": {
      "text/plain": [
       "634"
      ]
     },
     "execution_count": 12,
     "metadata": {
      "tags": []
     },
     "output_type": "execute_result"
    }
   ],
   "source": [
    "# List for holding lat_lngs and cities\n",
    "lat_lngs = []\n",
    "cities = []\n",
    "\n",
    "# Create a set of random lat and lng combinations\n",
    "lats = np.random.uniform(lat_range[0], lat_range[1], size=1500)\n",
    "lngs = np.random.uniform(lng_range[0], lng_range[1], size=1500)\n",
    "lat_lngs = zip(lats, lngs)\n",
    "\n",
    "# Identify nearest city for each lat, lng combination\n",
    "for lat_lng in lat_lngs:\n",
    "    city = citipy.nearest_city(lat_lng[0], lat_lng[1]).city_name\n",
    "    \n",
    "    # If the city is unique, then add it to a our cities list\n",
    "    if city not in cities:\n",
    "        cities.append(city)\n",
    "\n",
    "# Print the city count to confirm sufficient count\n",
    "len(cities)"
   ]
  },
  {
   "cell_type": "code",
   "execution_count": 13,
   "metadata": {
    "colab": {
     "base_uri": "https://localhost:8080/"
    },
    "id": "Rzj1pNHPcZnP",
    "outputId": "4091cd73-6546-44e6-c518-21d307b9f6db"
   },
   "outputs": [
    {
     "name": "stdout",
     "output_type": "stream",
     "text": [
      "0 hobyo\n",
      "1 coquimbo\n",
      "2 kaitangata\n",
      "3 chuy\n",
      "4 kanniyakumari\n",
      "5 bethel\n",
      "6 kyzyl-suu\n",
      "7 east london\n",
      "8 chokurdakh\n",
      "9 jamestown\n",
      "10 busselton\n",
      "11 paulo ramos\n",
      "12 lavrentiya\n",
      "13 ribeira grande\n",
      "14 nanortalik\n",
      "15 hilo\n",
      "16 yellowknife\n",
      "17 derzhavinsk\n",
      "18 sinnamary\n",
      "19 vaini\n",
      "20 qaqortoq\n",
      "21 svetlyy\n",
      "22 saint-philippe\n",
      "23 new norfolk\n",
      "24 victoria\n",
      "25 ushuaia\n",
      "26 bluff\n",
      "27 thinadhoo\n",
      "28 broome\n",
      "29 constitucion\n",
      "30 luderitz\n",
      "31 berbera\n",
      "32 cape town\n",
      "33 alofi\n",
      "34 piribebuy\n",
      "35 port alfred\n",
      "36 punta arenas\n",
      "37 puerto ayora\n",
      "38 mataura\n",
      "39 dikson\n",
      "40 pangnirtung\n",
      "41 praia da vitoria\n",
      "42 cayenne\n",
      "43 baruun-urt\n",
      "44 lebu\n",
      "45 sorong\n",
      "46 amderma\n",
      "47 hami\n",
      "48 castro\n",
      "49 kapaa\n",
      "50 bredasdorp\n",
      "51 mango\n",
      "52 whitehorse\n",
      "53 taolanaro\n",
      "54 albany\n",
      "55 tuktoyaktuk\n",
      "56 coihaique\n",
      "57 rocha\n",
      "58 mandalgovi\n",
      "59 tuatapere\n",
      "60 harper\n",
      "61 ponta do sol\n",
      "62 upernavik\n",
      "63 launceston\n",
      "64 codrington\n",
      "65 camocim\n",
      "66 leningradskiy\n",
      "67 krasnoselkup\n",
      "68 bambous virieux\n",
      "69 huilong\n",
      "70 sironj\n",
      "71 avarua\n",
      "72 hambantota\n",
      "73 kyabram\n",
      "74 georgetown\n",
      "75 longyearbyen\n",
      "76 arraial do cabo\n",
      "77 paita\n",
      "78 bengkulu\n",
      "79 baker city\n",
      "80 melita\n",
      "81 guamuchil\n",
      "82 bilma\n",
      "83 tshikapa\n",
      "84 namestovo\n",
      "85 tiksi\n",
      "86 port blair\n",
      "87 alta floresta\n",
      "88 ouango\n",
      "89 port elizabeth\n",
      "90 nikolskoye\n",
      "91 maumere\n",
      "92 arroio grande\n",
      "93 clyde river\n",
      "94 qaanaaq\n",
      "95 attawapiskat\n",
      "96 marbella\n",
      "97 polson\n",
      "98 moramanga\n",
      "99 penzance\n",
      "100 sokolka\n",
      "101 luena\n",
      "102 roblin\n",
      "103 rikitea\n",
      "104 anamur\n",
      "105 erenhot\n",
      "106 junin\n",
      "107 kirksville\n",
      "108 naze\n",
      "109 bulawayo\n",
      "110 vuktyl\n",
      "111 ambam\n",
      "112 narsaq\n",
      "113 berlevag\n",
      "114 chandvad\n",
      "115 celestun\n",
      "116 airai\n",
      "117 hobart\n",
      "118 saint george\n",
      "119 bubaque\n",
      "120 puerto suarez\n",
      "121 mar del plata\n",
      "122 te anau\n",
      "123 illoqqortoormiut\n",
      "124 faya\n",
      "125 severo-kurilsk\n",
      "126 kurumkan\n",
      "127 tasiilaq\n",
      "128 geraldton\n",
      "129 abu dhabi\n",
      "130 zwedru\n",
      "131 nizhneyansk\n",
      "132 saint anthony\n",
      "133 mys shmidta\n",
      "134 grindavik\n",
      "135 urucui\n",
      "136 khatanga\n",
      "137 mrirt\n",
      "138 hasaki\n",
      "139 rawson\n",
      "140 jibuti\n",
      "141 lata\n",
      "142 le port\n",
      "143 beringovskiy\n",
      "144 tomigusuku\n",
      "145 mahebourg\n",
      "146 san ramon de la nueva oran\n",
      "147 arinos\n",
      "148 quatre cocos\n",
      "149 carnarvon\n",
      "150 bonthe\n",
      "151 ewa beach\n",
      "152 calabozo\n",
      "153 hermanus\n",
      "154 morristown\n",
      "155 atuona\n",
      "156 klyuchi\n",
      "157 hun\n",
      "158 kodiak\n",
      "159 ilulissat\n",
      "160 kavieng\n",
      "161 tolga\n",
      "162 bargal\n",
      "163 northam\n",
      "164 barrow\n",
      "165 acapulco\n",
      "166 killybegs\n",
      "167 yulara\n",
      "168 san quintin\n",
      "169 rio gallegos\n",
      "170 xiongzhou\n",
      "171 buraydah\n",
      "172 padang\n",
      "173 nemuro\n",
      "174 port macquarie\n",
      "175 pimentel\n",
      "176 kruisfontein\n",
      "177 viligili\n",
      "178 san buenaventura\n",
      "179 mizdah\n",
      "180 vila franca do campo\n",
      "181 tual\n",
      "182 atar\n",
      "183 nhamunda\n",
      "184 ho chi minh city\n",
      "185 haines junction\n",
      "186 vung tau\n",
      "187 grand river south east\n",
      "188 tombouctou\n",
      "189 cockburn town\n",
      "190 montepuez\n",
      "191 lagoa\n",
      "192 husavik\n",
      "193 bad wildungen\n",
      "194 mitsamiouli\n",
      "195 komsomolskiy\n",
      "196 chapais\n",
      "197 sitka\n",
      "198 saskylakh\n",
      "199 ngunguru\n",
      "200 souillac\n",
      "201 sentyabrskiy\n",
      "202 itarema\n",
      "203 fukue\n",
      "204 samusu\n",
      "205 ormara\n",
      "206 aykhal\n",
      "207 esperance\n",
      "208 barreirinhas\n",
      "209 provideniya\n",
      "210 tamiahua\n",
      "211 xinyu\n",
      "212 saldanha\n",
      "213 kapuskasing\n",
      "214 zhigansk\n",
      "215 hohhot\n",
      "216 mulege\n",
      "217 faanui\n",
      "218 bomet\n",
      "219 tumannyy\n",
      "220 stekolnyy\n",
      "221 pacific grove\n",
      "222 laredo\n",
      "223 angoram\n",
      "224 saint-augustin\n",
      "225 newport\n",
      "226 dhidhdhoo\n",
      "227 ola\n",
      "228 mwingi\n",
      "229 berdychiv\n",
      "230 belushya guba\n",
      "231 marshfield\n",
      "232 cidreira\n",
      "233 cherskiy\n",
      "234 adrar\n",
      "235 mamallapuram\n",
      "236 conceicao da barra\n",
      "237 awbari\n",
      "238 aktash\n",
      "239 teya\n",
      "240 kahului\n",
      "241 rorvik\n",
      "242 yanan\n",
      "243 nicoya\n",
      "244 bayan\n",
      "245 moose factory\n",
      "246 araguacu\n",
      "247 moroto\n",
      "248 palembang\n",
      "249 isangel\n",
      "250 tidore\n",
      "251 hithadhoo\n",
      "252 bardiyah\n",
      "253 huarmey\n",
      "254 shache\n",
      "255 nara\n",
      "256 xining\n",
      "257 asyut\n",
      "258 scarborough\n",
      "259 jizan\n",
      "260 mackenzie\n",
      "261 hilton head island\n",
      "262 sembe\n",
      "263 coruripe\n",
      "264 abu samrah\n",
      "265 oistins\n",
      "266 tarko-sale\n",
      "267 qujing\n",
      "268 palmerston\n",
      "269 panaba\n",
      "270 magadan\n",
      "271 mount isa\n",
      "272 yar-sale\n",
      "273 ossora\n",
      "274 sapa\n",
      "275 lahijan\n",
      "276 tsienyane\n",
      "277 grand-santi\n",
      "278 kihei\n",
      "279 omaha\n",
      "280 goulburn\n",
      "281 ixtapa\n",
      "282 madang\n",
      "283 martapura\n",
      "284 mayo\n",
      "285 mandalgarh\n",
      "286 dasoguz\n",
      "287 shellbrook\n",
      "288 vikulovo\n",
      "289 tandil\n",
      "290 linxia\n",
      "291 thompson\n",
      "292 klaksvik\n",
      "293 pagman\n",
      "294 fevralsk\n",
      "295 henties bay\n",
      "296 toguchin\n",
      "297 port-gentil\n",
      "298 salinas\n",
      "299 orlik\n",
      "300 teguldet\n",
      "301 palabuhanratu\n",
      "302 ituni\n",
      "303 okhotsk\n",
      "304 khilok\n",
      "305 lekoni\n",
      "306 engerwitzdorf\n",
      "307 lompoc\n",
      "308 bandarbeyla\n",
      "309 mikkeli\n",
      "310 barentsburg\n",
      "311 ekhabi\n",
      "312 avera\n",
      "313 wicklow\n",
      "314 dundee\n",
      "315 ugoofaaru\n",
      "316 burica\n",
      "317 canita\n",
      "318 tsihombe\n",
      "319 karkaralinsk\n",
      "320 salalah\n",
      "321 hailey\n",
      "322 verkhoyansk\n",
      "323 santa maria\n",
      "324 ancud\n",
      "325 araouane\n",
      "326 norman wells\n",
      "327 torbay\n",
      "328 vaitupu\n",
      "329 sosnogorsk\n",
      "330 pevek\n",
      "331 saleaula\n",
      "332 sayabec\n",
      "333 obigarm\n",
      "334 port hardy\n",
      "335 buritis\n",
      "336 kaeo\n",
      "337 pyu\n",
      "338 necochea\n",
      "339 verkhnevilyuysk\n",
      "340 guerrero negro\n",
      "341 colares\n",
      "342 attur\n",
      "343 saint combs\n",
      "344 iqaluit\n",
      "345 banjar\n",
      "346 planaltina\n",
      "347 kirakira\n",
      "348 la ronge\n",
      "349 prince rupert\n",
      "350 sarkikaraagac\n",
      "351 nishihara\n",
      "352 gorno-chuyskiy\n",
      "353 quetzaltepec\n",
      "354 dawlatabad\n",
      "355 harboore\n",
      "356 cheyenne\n",
      "357 tura\n",
      "358 syamzha\n",
      "359 copiapo\n",
      "360 vila velha\n",
      "361 amahai\n",
      "362 bulgan\n",
      "363 bodden town\n",
      "364 kazalinsk\n",
      "365 mala\n",
      "366 dulce grande\n",
      "367 hualmay\n",
      "368 ko samui\n",
      "369 eston\n",
      "370 ulaangom\n",
      "371 warwick\n",
      "372 basoko\n",
      "373 la romana\n",
      "374 strzelin\n",
      "375 acari\n",
      "376 dolores\n",
      "377 zhanaozen\n",
      "378 biu\n",
      "379 guayaramerin\n",
      "380 butaritari\n",
      "381 belmonte\n",
      "382 yerbogachen\n",
      "383 thunder bay\n",
      "384 bath\n",
      "385 sistranda\n",
      "386 redlands\n",
      "387 sisimiut\n",
      "388 bereslavka\n",
      "389 lamu\n",
      "390 nioro\n",
      "391 chicama\n",
      "392 sambava\n",
      "393 voloshka\n",
      "394 alice springs\n",
      "395 artyk\n",
      "396 karratha\n",
      "397 masuri\n",
      "398 ostersund\n",
      "399 bad hofgastein\n",
      "400 sokoni\n",
      "401 nouakchott\n",
      "402 nador\n",
      "403 muros\n",
      "404 preobrazheniye\n",
      "405 tabou\n",
      "406 varkkallai\n",
      "407 ayan\n",
      "408 dunedin\n",
      "409 sorvag\n",
      "410 vagur\n",
      "411 high level\n",
      "412 vangaindrano\n",
      "413 eldikan\n",
      "414 emet\n",
      "415 cascais\n",
      "416 toamasina\n",
      "417 luanda\n",
      "418 mehamn\n",
      "419 gemena\n",
      "420 ialibu\n",
      "421 savonlinna\n",
      "422 vredendal\n",
      "423 sabha\n",
      "424 palmares do sul\n",
      "425 flagstaff\n",
      "426 barawe\n",
      "427 ovsyanka\n",
      "428 sukumo\n",
      "429 bira\n",
      "430 malakal\n",
      "431 artyom\n",
      "432 ballina\n",
      "433 beloha\n",
      "434 labuhan\n",
      "435 bhongir\n",
      "436 prieska\n",
      "437 vao\n",
      "438 kyshtovka\n",
      "439 moree\n",
      "440 denizli\n",
      "441 osmena\n",
      "442 altay\n",
      "443 kristiansund\n",
      "444 bogovarovo\n",
      "445 saryg-sep\n",
      "446 karpathos\n",
      "447 chimore\n",
      "448 pisco\n",
      "449 san matias\n",
      "450 pangkalanbuun\n",
      "451 toulepleu\n",
      "452 novyy urengoy\n",
      "453 chyhyryn\n",
      "454 san ignacio\n",
      "455 lasa\n",
      "456 santa rita\n",
      "457 ayr\n",
      "458 mvuma\n",
      "459 hanna\n",
      "460 liverpool\n",
      "461 campoverde\n",
      "462 fontem\n",
      "463 blagoyevo\n",
      "464 emirdag\n",
      "465 barra do garcas\n",
      "466 aldan\n",
      "467 marovoay\n",
      "468 christchurch\n",
      "469 kholtoson\n",
      "470 nabire\n",
      "471 omsukchan\n",
      "472 dossor\n",
      "473 kamenka\n",
      "474 cabo san lucas\n",
      "475 talcahuano\n",
      "476 nhulunbuy\n",
      "477 trinidad\n",
      "478 qeshm\n",
      "479 rabo de peixe\n",
      "480 villa carlos paz\n",
      "481 tigil\n",
      "482 uray\n",
      "483 carutapera\n",
      "484 borovskoy\n",
      "485 mackay\n",
      "486 valdivia\n",
      "487 aklavik\n",
      "488 iralaya\n",
      "489 juneau\n",
      "490 nantucket\n",
      "491 santa cruz\n",
      "492 yatou\n",
      "493 bolivar\n",
      "494 kavaratti\n",
      "495 senno\n",
      "496 idrinskoye\n",
      "497 general roca\n",
      "498 moriyama\n",
      "499 japura\n",
      "500 arya\n",
      "501 ostrovnoy\n",
      "502 manokwari\n",
      "503 san lorenzo\n",
      "504 alwar\n",
      "505 monroe\n",
      "506 kirovohrad\n",
      "507 santa rosa\n",
      "508 hauterive\n",
      "509 nagato\n",
      "510 filadelfia\n",
      "511 achisay\n",
      "512 povenets\n",
      "513 tondano\n",
      "514 casambalangan\n",
      "515 chagda\n",
      "516 sisophon\n",
      "517 llandrindod wells\n",
      "518 katsuura\n",
      "519 catio\n",
      "520 labutta\n",
      "521 santiago del estero\n",
      "522 tessalit\n",
      "523 rumuruti\n",
      "524 mecca\n",
      "525 damaturu\n",
      "526 taoudenni\n",
      "527 tambun\n",
      "528 maturin\n",
      "529 basco\n",
      "530 nizhniy ingash\n",
      "531 saint-joseph\n",
      "532 kahama\n",
      "533 port hedland\n",
      "534 vestmannaeyjar\n",
      "535 hyeres\n",
      "536 ruatoria\n",
      "537 inhambane\n",
      "538 puhja\n",
      "539 ozd\n",
      "540 halifax\n",
      "541 sorland\n",
      "542 palmer\n",
      "543 gotha\n",
      "544 zolotkovo\n",
      "545 flinders\n",
      "546 paragominas\n",
      "547 pictou\n",
      "548 san jeronimo\n",
      "549 majene\n",
      "550 vardo\n",
      "551 new haven\n",
      "552 neuquen\n",
      "553 bairiki\n",
      "554 gobabis\n",
      "555 ryotsu\n",
      "556 sao joao da barra\n",
      "557 ciudad bolivar\n",
      "558 pemangkat\n",
      "559 plettenberg bay\n",
      "560 fort thomas\n",
      "561 gopamau\n",
      "562 taburi\n",
      "563 pokhara\n",
      "564 doha\n",
      "565 porto novo\n",
      "566 nouadhibou\n",
      "567 ust-kuyga\n",
      "568 tocopilla\n",
      "569 bacong\n",
      "570 ho\n",
      "571 portland\n",
      "572 natal\n",
      "573 namibe\n",
      "574 kjopsvik\n",
      "575 sayan\n",
      "576 port lincoln\n",
      "577 sur\n",
      "578 gamboma\n",
      "579 guaruja\n",
      "580 tashtyp\n",
      "581 tarusa\n",
      "582 rio cuarto\n",
      "583 comodoro rivadavia\n",
      "584 namatanai\n",
      "585 vicksburg\n",
      "586 nome\n",
      "587 ourem\n",
      "588 osa\n",
      "589 okha\n",
      "590 massape\n",
      "591 tuggurt\n",
      "592 zunyi\n",
      "593 todos santos\n",
      "594 isla vista\n",
      "595 trairi\n",
      "596 louisbourg\n",
      "597 bolungarvik\n",
      "598 gorontalo\n",
      "599 meulaboh\n",
      "600 buta\n",
      "601 vostok\n",
      "602 margate\n",
      "603 zaozerne\n",
      "604 buchanan\n",
      "605 phalaborwa\n",
      "606 calvinia\n",
      "607 konstantinovka\n",
      "608 murray bridge\n",
      "609 waitati\n",
      "610 alta\n",
      "611 anloga\n",
      "612 cap malheureux\n",
      "613 flin flon\n",
      "614 babanusah\n",
      "615 campos novos\n",
      "616 kuvandyk\n",
      "617 bunia\n",
      "618 mwanza\n",
      "619 coolum beach\n",
      "620 sao filipe\n",
      "621 bekhtery\n",
      "622 broken hill\n",
      "623 hlobyne\n",
      "624 asau\n",
      "625 drumheller\n",
      "626 bathsheba\n",
      "627 devils lake\n",
      "628 dryden\n",
      "629 binga\n",
      "630 owando\n",
      "631 viedma\n",
      "632 paramithia\n",
      "633 half moon bay\n"
     ]
    }
   ],
   "source": [
    "for i, city in enumerate(cities):\n",
    "    print(i, city)"
   ]
  },
  {
   "cell_type": "markdown",
   "metadata": {
    "id": "egg_KJ8UcZnQ"
   },
   "source": [
    "### Perform API Calls\n",
    "* Perform a weather check on each city using a series of successive API calls.\n",
    "* Include a print log of each city as it'sbeing processed (with the city number and city name).\n"
   ]
  },
  {
   "cell_type": "code",
   "execution_count": 14,
   "metadata": {
    "colab": {
     "base_uri": "https://localhost:8080/"
    },
    "id": "M-1Mr-4BcZnR",
    "outputId": "98e3f1f5-a6de-41bd-a050-4e6188732436"
   },
   "outputs": [
    {
     "name": "stdout",
     "output_type": "stream",
     "text": [
      "Beginning Data Retrieval\n",
      "-----------------------\n",
      "Processing Record 1 of Set 1 | hobyo\n",
      "Processing Record 2 of Set 1 | coquimbo\n",
      "Processing Record 3 of Set 1 | kaitangata\n",
      "Processing Record 4 of Set 1 | chuy\n",
      "Processing Record 5 of Set 1 | kanniyakumari\n",
      "Processing Record 6 of Set 1 | bethel\n",
      "Processing Record 7 of Set 1 | kyzyl-suu\n",
      "Processing Record 8 of Set 1 | east london\n",
      "Processing Record 9 of Set 1 | chokurdakh\n",
      "Processing Record 10 of Set 1 | jamestown\n",
      "Processing Record 11 of Set 1 | busselton\n",
      "Processing Record 12 of Set 1 | paulo ramos\n",
      "Processing Record 13 of Set 1 | lavrentiya\n",
      "Processing Record 14 of Set 1 | ribeira grande\n",
      "Processing Record 15 of Set 1 | nanortalik\n",
      "Processing Record 16 of Set 1 | hilo\n",
      "Processing Record 17 of Set 1 | yellowknife\n",
      "Processing Record 18 of Set 1 | derzhavinsk\n",
      "Processing Record 19 of Set 1 | sinnamary\n",
      "Processing Record 20 of Set 1 | vaini\n",
      "Processing Record 21 of Set 1 | qaqortoq\n",
      "Processing Record 22 of Set 1 | svetlyy\n",
      "Processing Record 23 of Set 1 | saint-philippe\n",
      "Processing Record 24 of Set 1 | new norfolk\n",
      "Processing Record 25 of Set 1 | victoria\n",
      "Processing Record 26 of Set 1 | ushuaia\n",
      "Processing Record 27 of Set 1 | bluff\n",
      "Processing Record 28 of Set 1 | thinadhoo\n",
      "Processing Record 29 of Set 1 | broome\n",
      "Processing Record 30 of Set 1 | constitucion\n",
      "Processing Record 31 of Set 1 | luderitz\n",
      "Processing Record 32 of Set 1 | berbera\n",
      "Processing Record 33 of Set 1 | cape town\n",
      "Processing Record 34 of Set 1 | alofi\n",
      "Processing Record 35 of Set 1 | piribebuy\n",
      "Processing Record 36 of Set 1 | port alfred\n",
      "Processing Record 37 of Set 1 | punta arenas\n",
      "Processing Record 38 of Set 1 | puerto ayora\n",
      "Processing Record 39 of Set 1 | mataura\n",
      "Processing Record 40 of Set 1 | dikson\n",
      "Processing Record 41 of Set 1 | pangnirtung\n",
      "Processing Record 42 of Set 1 | praia da vitoria\n",
      "Processing Record 43 of Set 1 | cayenne\n",
      "Processing Record 44 of Set 1 | baruun-urt\n",
      "Processing Record 45 of Set 1 | lebu\n",
      "Processing Record 46 of Set 1 | sorong\n",
      "amderma not found. Skipping....\n",
      "Processing Record 47 of Set 1 | hami\n",
      "Processing Record 48 of Set 1 | castro\n",
      "Processing Record 49 of Set 1 | kapaa\n",
      "Processing Record 0 of Set 2 | bredasdorp\n",
      "Processing Record 1 of Set 2 | mango\n",
      "Processing Record 2 of Set 2 | whitehorse\n",
      "taolanaro not found. Skipping....\n",
      "Processing Record 3 of Set 2 | albany\n",
      "Processing Record 4 of Set 2 | tuktoyaktuk\n",
      "Processing Record 5 of Set 2 | coihaique\n",
      "Processing Record 6 of Set 2 | rocha\n",
      "Processing Record 7 of Set 2 | mandalgovi\n",
      "Processing Record 8 of Set 2 | tuatapere\n",
      "Processing Record 9 of Set 2 | harper\n",
      "Processing Record 10 of Set 2 | ponta do sol\n",
      "Processing Record 11 of Set 2 | upernavik\n",
      "Processing Record 12 of Set 2 | launceston\n",
      "Processing Record 13 of Set 2 | codrington\n",
      "Processing Record 14 of Set 2 | camocim\n",
      "Processing Record 15 of Set 2 | leningradskiy\n",
      "Processing Record 16 of Set 2 | krasnoselkup\n",
      "Processing Record 17 of Set 2 | bambous virieux\n",
      "Processing Record 18 of Set 2 | huilong\n",
      "Processing Record 19 of Set 2 | sironj\n",
      "Processing Record 20 of Set 2 | avarua\n",
      "Processing Record 21 of Set 2 | hambantota\n",
      "Processing Record 22 of Set 2 | kyabram\n",
      "Processing Record 23 of Set 2 | georgetown\n",
      "Processing Record 24 of Set 2 | longyearbyen\n",
      "Processing Record 25 of Set 2 | arraial do cabo\n",
      "Processing Record 26 of Set 2 | paita\n",
      "Processing Record 27 of Set 2 | bengkulu\n",
      "Processing Record 28 of Set 2 | baker city\n",
      "Processing Record 29 of Set 2 | melita\n",
      "Processing Record 30 of Set 2 | guamuchil\n",
      "Processing Record 31 of Set 2 | bilma\n",
      "Processing Record 32 of Set 2 | tshikapa\n",
      "Processing Record 33 of Set 2 | namestovo\n",
      "Processing Record 34 of Set 2 | tiksi\n",
      "Processing Record 35 of Set 2 | port blair\n",
      "Processing Record 36 of Set 2 | alta floresta\n",
      "Processing Record 37 of Set 2 | ouango\n",
      "Processing Record 38 of Set 2 | port elizabeth\n",
      "Processing Record 39 of Set 2 | nikolskoye\n",
      "Processing Record 40 of Set 2 | maumere\n",
      "Processing Record 41 of Set 2 | arroio grande\n",
      "Processing Record 42 of Set 2 | clyde river\n",
      "Processing Record 43 of Set 2 | qaanaaq\n",
      "attawapiskat not found. Skipping....\n",
      "Processing Record 44 of Set 2 | marbella\n",
      "Processing Record 45 of Set 2 | polson\n",
      "Processing Record 46 of Set 2 | moramanga\n",
      "Processing Record 47 of Set 2 | penzance\n",
      "Processing Record 0 of Set 3 | sokolka\n",
      "Processing Record 1 of Set 3 | luena\n",
      "Processing Record 2 of Set 3 | roblin\n",
      "Processing Record 3 of Set 3 | rikitea\n",
      "Processing Record 4 of Set 3 | anamur\n",
      "Processing Record 5 of Set 3 | erenhot\n",
      "Processing Record 6 of Set 3 | junin\n",
      "Processing Record 7 of Set 3 | kirksville\n",
      "Processing Record 8 of Set 3 | naze\n",
      "Processing Record 9 of Set 3 | bulawayo\n",
      "Processing Record 10 of Set 3 | vuktyl\n",
      "Processing Record 11 of Set 3 | ambam\n",
      "Processing Record 12 of Set 3 | narsaq\n",
      "Processing Record 13 of Set 3 | berlevag\n",
      "Processing Record 14 of Set 3 | chandvad\n",
      "Processing Record 15 of Set 3 | celestun\n",
      "Processing Record 16 of Set 3 | airai\n",
      "Processing Record 17 of Set 3 | hobart\n",
      "Processing Record 18 of Set 3 | saint george\n",
      "Processing Record 19 of Set 3 | bubaque\n",
      "Processing Record 20 of Set 3 | puerto suarez\n",
      "Processing Record 21 of Set 3 | mar del plata\n",
      "Processing Record 22 of Set 3 | te anau\n",
      "illoqqortoormiut not found. Skipping....\n",
      "Processing Record 23 of Set 3 | faya\n",
      "Processing Record 24 of Set 3 | severo-kurilsk\n",
      "Processing Record 25 of Set 3 | kurumkan\n",
      "Processing Record 26 of Set 3 | tasiilaq\n",
      "Processing Record 27 of Set 3 | geraldton\n",
      "Processing Record 28 of Set 3 | abu dhabi\n",
      "Processing Record 29 of Set 3 | zwedru\n",
      "nizhneyansk not found. Skipping....\n",
      "Processing Record 30 of Set 3 | saint anthony\n",
      "mys shmidta not found. Skipping....\n",
      "Processing Record 31 of Set 3 | grindavik\n",
      "Processing Record 32 of Set 3 | urucui\n",
      "Processing Record 33 of Set 3 | khatanga\n",
      "mrirt not found. Skipping....\n",
      "Processing Record 34 of Set 3 | hasaki\n",
      "Processing Record 35 of Set 3 | rawson\n",
      "Processing Record 36 of Set 3 | jibuti\n",
      "Processing Record 37 of Set 3 | lata\n",
      "Processing Record 38 of Set 3 | le port\n",
      "Processing Record 39 of Set 3 | beringovskiy\n",
      "Processing Record 40 of Set 3 | tomigusuku\n",
      "Processing Record 41 of Set 3 | mahebourg\n",
      "Processing Record 42 of Set 3 | san ramon de la nueva oran\n",
      "Processing Record 43 of Set 3 | arinos\n",
      "Processing Record 44 of Set 3 | quatre cocos\n",
      "Processing Record 45 of Set 3 | carnarvon\n",
      "Processing Record 0 of Set 4 | bonthe\n",
      "Processing Record 1 of Set 4 | ewa beach\n",
      "Processing Record 2 of Set 4 | calabozo\n",
      "Processing Record 3 of Set 4 | hermanus\n",
      "Processing Record 4 of Set 4 | morristown\n",
      "Processing Record 5 of Set 4 | atuona\n",
      "Processing Record 6 of Set 4 | klyuchi\n",
      "Processing Record 7 of Set 4 | hun\n",
      "Processing Record 8 of Set 4 | kodiak\n",
      "Processing Record 9 of Set 4 | ilulissat\n",
      "Processing Record 10 of Set 4 | kavieng\n",
      "Processing Record 11 of Set 4 | tolga\n",
      "bargal not found. Skipping....\n",
      "Processing Record 12 of Set 4 | northam\n",
      "Processing Record 13 of Set 4 | barrow\n",
      "Processing Record 14 of Set 4 | acapulco\n",
      "Processing Record 15 of Set 4 | killybegs\n",
      "Processing Record 16 of Set 4 | yulara\n",
      "Processing Record 17 of Set 4 | san quintin\n",
      "Processing Record 18 of Set 4 | rio gallegos\n",
      "Processing Record 19 of Set 4 | xiongzhou\n",
      "Processing Record 20 of Set 4 | buraydah\n",
      "Processing Record 21 of Set 4 | padang\n",
      "Processing Record 22 of Set 4 | nemuro\n",
      "Processing Record 23 of Set 4 | port macquarie\n",
      "Processing Record 24 of Set 4 | pimentel\n",
      "Processing Record 25 of Set 4 | kruisfontein\n",
      "viligili not found. Skipping....\n",
      "Processing Record 26 of Set 4 | san buenaventura\n",
      "Processing Record 27 of Set 4 | mizdah\n",
      "Processing Record 28 of Set 4 | vila franca do campo\n",
      "Processing Record 29 of Set 4 | tual\n",
      "Processing Record 30 of Set 4 | atar\n",
      "Processing Record 31 of Set 4 | nhamunda\n",
      "Processing Record 32 of Set 4 | ho chi minh city\n",
      "Processing Record 33 of Set 4 | haines junction\n",
      "Processing Record 34 of Set 4 | vung tau\n",
      "grand river south east not found. Skipping....\n",
      "Processing Record 35 of Set 4 | tombouctou\n",
      "Processing Record 36 of Set 4 | cockburn town\n",
      "Processing Record 37 of Set 4 | montepuez\n",
      "Processing Record 38 of Set 4 | lagoa\n",
      "Processing Record 39 of Set 4 | husavik\n",
      "Processing Record 40 of Set 4 | bad wildungen\n",
      "Processing Record 41 of Set 4 | mitsamiouli\n",
      "Processing Record 42 of Set 4 | komsomolskiy\n",
      "Processing Record 43 of Set 4 | chapais\n",
      "Processing Record 44 of Set 4 | sitka\n",
      "Processing Record 45 of Set 4 | saskylakh\n",
      "Processing Record 46 of Set 4 | ngunguru\n",
      "Processing Record 0 of Set 5 | souillac\n",
      "sentyabrskiy not found. Skipping....\n",
      "Processing Record 1 of Set 5 | itarema\n",
      "Processing Record 2 of Set 5 | fukue\n",
      "samusu not found. Skipping....\n",
      "Processing Record 3 of Set 5 | ormara\n",
      "Processing Record 4 of Set 5 | aykhal\n",
      "Processing Record 5 of Set 5 | esperance\n",
      "Processing Record 6 of Set 5 | barreirinhas\n",
      "Processing Record 7 of Set 5 | provideniya\n",
      "Processing Record 8 of Set 5 | tamiahua\n",
      "Processing Record 9 of Set 5 | xinyu\n",
      "Processing Record 10 of Set 5 | saldanha\n",
      "Processing Record 11 of Set 5 | kapuskasing\n",
      "Processing Record 12 of Set 5 | zhigansk\n",
      "Processing Record 13 of Set 5 | hohhot\n",
      "Processing Record 14 of Set 5 | mulege\n",
      "Processing Record 15 of Set 5 | faanui\n",
      "Processing Record 16 of Set 5 | bomet\n",
      "tumannyy not found. Skipping....\n",
      "stekolnyy not found. Skipping....\n",
      "Processing Record 17 of Set 5 | pacific grove\n",
      "Processing Record 18 of Set 5 | laredo\n",
      "Processing Record 19 of Set 5 | angoram\n",
      "Processing Record 20 of Set 5 | saint-augustin\n",
      "Processing Record 21 of Set 5 | newport\n",
      "Processing Record 22 of Set 5 | dhidhdhoo\n",
      "Processing Record 23 of Set 5 | ola\n",
      "Processing Record 24 of Set 5 | mwingi\n",
      "Processing Record 25 of Set 5 | berdychiv\n",
      "belushya guba not found. Skipping....\n",
      "Processing Record 26 of Set 5 | marshfield\n",
      "Processing Record 27 of Set 5 | cidreira\n",
      "Processing Record 28 of Set 5 | cherskiy\n",
      "Processing Record 29 of Set 5 | adrar\n",
      "Processing Record 30 of Set 5 | mamallapuram\n",
      "Processing Record 31 of Set 5 | conceicao da barra\n",
      "Processing Record 32 of Set 5 | awbari\n",
      "Processing Record 33 of Set 5 | aktash\n",
      "Processing Record 34 of Set 5 | teya\n",
      "Processing Record 35 of Set 5 | kahului\n",
      "Processing Record 36 of Set 5 | rorvik\n",
      "yanan not found. Skipping....\n",
      "Processing Record 37 of Set 5 | nicoya\n",
      "Processing Record 38 of Set 5 | bayan\n",
      "Processing Record 39 of Set 5 | moose factory\n",
      "Processing Record 40 of Set 5 | araguacu\n",
      "Processing Record 41 of Set 5 | moroto\n",
      "Processing Record 42 of Set 5 | palembang\n",
      "Processing Record 43 of Set 5 | isangel\n",
      "tidore not found. Skipping....\n",
      "Processing Record 0 of Set 6 | hithadhoo\n",
      "Processing Record 1 of Set 6 | bardiyah\n",
      "Processing Record 2 of Set 6 | huarmey\n",
      "Processing Record 3 of Set 6 | shache\n",
      "Processing Record 4 of Set 6 | nara\n",
      "Processing Record 5 of Set 6 | xining\n",
      "Processing Record 6 of Set 6 | asyut\n",
      "Processing Record 7 of Set 6 | scarborough\n",
      "Processing Record 8 of Set 6 | jizan\n",
      "Processing Record 9 of Set 6 | mackenzie\n",
      "Processing Record 10 of Set 6 | hilton head island\n",
      "Processing Record 11 of Set 6 | sembe\n",
      "Processing Record 12 of Set 6 | coruripe\n",
      "Processing Record 13 of Set 6 | abu samrah\n",
      "Processing Record 14 of Set 6 | oistins\n",
      "Processing Record 15 of Set 6 | tarko-sale\n",
      "Processing Record 16 of Set 6 | qujing\n",
      "Processing Record 17 of Set 6 | palmerston\n",
      "Processing Record 18 of Set 6 | panaba\n",
      "Processing Record 19 of Set 6 | magadan\n",
      "Processing Record 20 of Set 6 | mount isa\n",
      "Processing Record 21 of Set 6 | yar-sale\n",
      "Processing Record 22 of Set 6 | ossora\n",
      "Processing Record 23 of Set 6 | sapa\n",
      "Processing Record 24 of Set 6 | lahijan\n",
      "tsienyane not found. Skipping....\n",
      "Processing Record 25 of Set 6 | grand-santi\n",
      "Processing Record 26 of Set 6 | kihei\n",
      "Processing Record 27 of Set 6 | omaha\n",
      "Processing Record 28 of Set 6 | goulburn\n",
      "Processing Record 29 of Set 6 | ixtapa\n",
      "Processing Record 30 of Set 6 | madang\n",
      "Processing Record 31 of Set 6 | martapura\n",
      "Processing Record 32 of Set 6 | mayo\n",
      "Processing Record 33 of Set 6 | mandalgarh\n",
      "Processing Record 34 of Set 6 | dasoguz\n",
      "Processing Record 35 of Set 6 | shellbrook\n",
      "Processing Record 36 of Set 6 | vikulovo\n",
      "Processing Record 37 of Set 6 | tandil\n",
      "Processing Record 38 of Set 6 | linxia\n",
      "Processing Record 39 of Set 6 | thompson\n",
      "Processing Record 40 of Set 6 | klaksvik\n",
      "pagman not found. Skipping....\n",
      "fevralsk not found. Skipping....\n",
      "Processing Record 41 of Set 6 | henties bay\n",
      "Processing Record 42 of Set 6 | toguchin\n",
      "Processing Record 43 of Set 6 | port-gentil\n",
      "Processing Record 44 of Set 6 | salinas\n",
      "Processing Record 45 of Set 6 | orlik\n",
      "Processing Record 0 of Set 7 | teguldet\n",
      "palabuhanratu not found. Skipping....\n",
      "ituni not found. Skipping....\n",
      "Processing Record 1 of Set 7 | okhotsk\n",
      "Processing Record 2 of Set 7 | khilok\n",
      "Processing Record 3 of Set 7 | lekoni\n",
      "Processing Record 4 of Set 7 | engerwitzdorf\n",
      "Processing Record 5 of Set 7 | lompoc\n",
      "Processing Record 6 of Set 7 | bandarbeyla\n",
      "Processing Record 7 of Set 7 | mikkeli\n",
      "barentsburg not found. Skipping....\n",
      "Processing Record 8 of Set 7 | ekhabi\n",
      "Processing Record 9 of Set 7 | avera\n",
      "Processing Record 10 of Set 7 | wicklow\n",
      "Processing Record 11 of Set 7 | dundee\n",
      "Processing Record 12 of Set 7 | ugoofaaru\n",
      "burica not found. Skipping....\n",
      "Processing Record 13 of Set 7 | canita\n",
      "tsihombe not found. Skipping....\n",
      "karkaralinsk not found. Skipping....\n",
      "Processing Record 14 of Set 7 | salalah\n",
      "Processing Record 15 of Set 7 | hailey\n",
      "Processing Record 16 of Set 7 | verkhoyansk\n",
      "Processing Record 17 of Set 7 | santa maria\n",
      "Processing Record 18 of Set 7 | ancud\n",
      "Processing Record 19 of Set 7 | araouane\n",
      "Processing Record 20 of Set 7 | norman wells\n",
      "Processing Record 21 of Set 7 | torbay\n",
      "vaitupu not found. Skipping....\n",
      "Processing Record 22 of Set 7 | sosnogorsk\n",
      "Processing Record 23 of Set 7 | pevek\n",
      "saleaula not found. Skipping....\n",
      "sayabec not found. Skipping....\n",
      "Processing Record 24 of Set 7 | obigarm\n",
      "Processing Record 25 of Set 7 | port hardy\n",
      "Processing Record 26 of Set 7 | buritis\n",
      "Processing Record 27 of Set 7 | kaeo\n",
      "Processing Record 28 of Set 7 | pyu\n",
      "Processing Record 29 of Set 7 | necochea\n",
      "Processing Record 30 of Set 7 | verkhnevilyuysk\n",
      "Processing Record 31 of Set 7 | guerrero negro\n",
      "Processing Record 32 of Set 7 | colares\n",
      "Processing Record 33 of Set 7 | attur\n",
      "saint combs not found. Skipping....\n",
      "Processing Record 34 of Set 7 | iqaluit\n",
      "Processing Record 35 of Set 7 | banjar\n",
      "Processing Record 36 of Set 7 | planaltina\n",
      "Processing Record 37 of Set 7 | kirakira\n",
      "Processing Record 38 of Set 7 | la ronge\n",
      "Processing Record 39 of Set 7 | prince rupert\n",
      "Processing Record 0 of Set 8 | sarkikaraagac\n",
      "Processing Record 1 of Set 8 | nishihara\n",
      "gorno-chuyskiy not found. Skipping....\n",
      "quetzaltepec not found. Skipping....\n",
      "Processing Record 2 of Set 8 | dawlatabad\n",
      "Processing Record 3 of Set 8 | harboore\n",
      "Processing Record 4 of Set 8 | cheyenne\n",
      "Processing Record 5 of Set 8 | tura\n",
      "Processing Record 6 of Set 8 | syamzha\n",
      "Processing Record 7 of Set 8 | copiapo\n",
      "Processing Record 8 of Set 8 | vila velha\n",
      "Processing Record 9 of Set 8 | amahai\n",
      "Processing Record 10 of Set 8 | bulgan\n",
      "Processing Record 11 of Set 8 | bodden town\n",
      "kazalinsk not found. Skipping....\n",
      "Processing Record 12 of Set 8 | mala\n",
      "Processing Record 13 of Set 8 | dulce grande\n",
      "Processing Record 14 of Set 8 | hualmay\n",
      "Processing Record 15 of Set 8 | ko samui\n",
      "Processing Record 16 of Set 8 | eston\n",
      "Processing Record 17 of Set 8 | ulaangom\n",
      "Processing Record 18 of Set 8 | warwick\n",
      "Processing Record 19 of Set 8 | basoko\n",
      "Processing Record 20 of Set 8 | la romana\n",
      "Processing Record 21 of Set 8 | strzelin\n",
      "Processing Record 22 of Set 8 | acari\n",
      "Processing Record 23 of Set 8 | dolores\n",
      "Processing Record 24 of Set 8 | zhanaozen\n",
      "Processing Record 25 of Set 8 | biu\n",
      "Processing Record 26 of Set 8 | guayaramerin\n",
      "Processing Record 27 of Set 8 | butaritari\n",
      "Processing Record 28 of Set 8 | belmonte\n",
      "Processing Record 29 of Set 8 | yerbogachen\n",
      "Processing Record 30 of Set 8 | thunder bay\n",
      "Processing Record 31 of Set 8 | bath\n",
      "Processing Record 32 of Set 8 | sistranda\n",
      "Processing Record 33 of Set 8 | redlands\n",
      "Processing Record 34 of Set 8 | sisimiut\n",
      "Processing Record 35 of Set 8 | bereslavka\n",
      "Processing Record 36 of Set 8 | lamu\n",
      "Processing Record 37 of Set 8 | nioro\n",
      "Processing Record 38 of Set 8 | chicama\n",
      "Processing Record 39 of Set 8 | sambava\n",
      "Processing Record 40 of Set 8 | voloshka\n",
      "Processing Record 41 of Set 8 | alice springs\n",
      "artyk not found. Skipping....\n",
      "Processing Record 42 of Set 8 | karratha\n",
      "Processing Record 43 of Set 8 | masuri\n",
      "Processing Record 44 of Set 8 | ostersund\n",
      "Processing Record 45 of Set 8 | bad hofgastein\n",
      "Processing Record 0 of Set 9 | sokoni\n",
      "Processing Record 1 of Set 9 | nouakchott\n",
      "Processing Record 2 of Set 9 | nador\n",
      "Processing Record 3 of Set 9 | muros\n",
      "Processing Record 4 of Set 9 | preobrazheniye\n",
      "Processing Record 5 of Set 9 | tabou\n",
      "Processing Record 6 of Set 9 | varkkallai\n",
      "Processing Record 7 of Set 9 | ayan\n",
      "Processing Record 8 of Set 9 | dunedin\n",
      "sorvag not found. Skipping....\n",
      "Processing Record 9 of Set 9 | vagur\n",
      "Processing Record 10 of Set 9 | high level\n",
      "Processing Record 11 of Set 9 | vangaindrano\n",
      "eldikan not found. Skipping....\n",
      "Processing Record 12 of Set 9 | emet\n",
      "Processing Record 13 of Set 9 | cascais\n",
      "Processing Record 14 of Set 9 | toamasina\n",
      "Processing Record 15 of Set 9 | luanda\n",
      "Processing Record 16 of Set 9 | mehamn\n",
      "Processing Record 17 of Set 9 | gemena\n",
      "Processing Record 18 of Set 9 | ialibu\n",
      "Processing Record 19 of Set 9 | savonlinna\n",
      "Processing Record 20 of Set 9 | vredendal\n",
      "Processing Record 21 of Set 9 | sabha\n",
      "Processing Record 22 of Set 9 | palmares do sul\n",
      "Processing Record 23 of Set 9 | flagstaff\n",
      "barawe not found. Skipping....\n",
      "Processing Record 24 of Set 9 | ovsyanka\n",
      "Processing Record 25 of Set 9 | sukumo\n",
      "Processing Record 26 of Set 9 | bira\n",
      "Processing Record 27 of Set 9 | malakal\n",
      "Processing Record 28 of Set 9 | artyom\n",
      "Processing Record 29 of Set 9 | ballina\n",
      "Processing Record 30 of Set 9 | beloha\n",
      "Processing Record 31 of Set 9 | labuhan\n",
      "Processing Record 32 of Set 9 | bhongir\n",
      "Processing Record 33 of Set 9 | prieska\n",
      "Processing Record 34 of Set 9 | vao\n",
      "Processing Record 35 of Set 9 | kyshtovka\n",
      "Processing Record 36 of Set 9 | moree\n",
      "Processing Record 37 of Set 9 | denizli\n",
      "Processing Record 38 of Set 9 | osmena\n",
      "Processing Record 39 of Set 9 | altay\n",
      "Processing Record 40 of Set 9 | kristiansund\n",
      "Processing Record 41 of Set 9 | bogovarovo\n",
      "Processing Record 42 of Set 9 | saryg-sep\n",
      "Processing Record 43 of Set 9 | karpathos\n",
      "Processing Record 44 of Set 9 | chimore\n",
      "Processing Record 45 of Set 9 | pisco\n",
      "Processing Record 46 of Set 9 | san matias\n",
      "Processing Record 0 of Set 10 | pangkalanbuun\n",
      "toulepleu not found. Skipping....\n",
      "Processing Record 1 of Set 10 | novyy urengoy\n",
      "Processing Record 2 of Set 10 | chyhyryn\n",
      "Processing Record 3 of Set 10 | san ignacio\n",
      "Processing Record 4 of Set 10 | lasa\n",
      "Processing Record 5 of Set 10 | santa rita\n",
      "Processing Record 6 of Set 10 | ayr\n",
      "Processing Record 7 of Set 10 | mvuma\n",
      "Processing Record 8 of Set 10 | hanna\n",
      "Processing Record 9 of Set 10 | liverpool\n",
      "Processing Record 10 of Set 10 | campoverde\n",
      "Processing Record 11 of Set 10 | fontem\n",
      "Processing Record 12 of Set 10 | blagoyevo\n",
      "Processing Record 13 of Set 10 | emirdag\n",
      "Processing Record 14 of Set 10 | barra do garcas\n",
      "Processing Record 15 of Set 10 | aldan\n",
      "Processing Record 16 of Set 10 | marovoay\n",
      "Processing Record 17 of Set 10 | christchurch\n",
      "Processing Record 18 of Set 10 | kholtoson\n",
      "Processing Record 19 of Set 10 | nabire\n",
      "Processing Record 20 of Set 10 | omsukchan\n",
      "Processing Record 21 of Set 10 | dossor\n",
      "Processing Record 22 of Set 10 | kamenka\n",
      "Processing Record 23 of Set 10 | cabo san lucas\n",
      "Processing Record 24 of Set 10 | talcahuano\n",
      "Processing Record 25 of Set 10 | nhulunbuy\n",
      "Processing Record 26 of Set 10 | trinidad\n",
      "Processing Record 27 of Set 10 | qeshm\n",
      "Processing Record 28 of Set 10 | rabo de peixe\n",
      "Processing Record 29 of Set 10 | villa carlos paz\n",
      "Processing Record 30 of Set 10 | tigil\n",
      "Processing Record 31 of Set 10 | uray\n",
      "Processing Record 32 of Set 10 | carutapera\n",
      "Processing Record 33 of Set 10 | borovskoy\n",
      "Processing Record 34 of Set 10 | mackay\n",
      "Processing Record 35 of Set 10 | valdivia\n",
      "Processing Record 36 of Set 10 | aklavik\n",
      "Processing Record 37 of Set 10 | iralaya\n",
      "Processing Record 38 of Set 10 | juneau\n",
      "Processing Record 39 of Set 10 | nantucket\n",
      "Processing Record 40 of Set 10 | santa cruz\n",
      "Processing Record 41 of Set 10 | yatou\n",
      "Processing Record 42 of Set 10 | bolivar\n",
      "Processing Record 43 of Set 10 | kavaratti\n",
      "Processing Record 44 of Set 10 | senno\n",
      "Processing Record 45 of Set 10 | idrinskoye\n",
      "Processing Record 46 of Set 10 | general roca\n",
      "Processing Record 47 of Set 10 | moriyama\n",
      "Processing Record 48 of Set 10 | japura\n",
      "Processing Record 0 of Set 11 | arya\n",
      "Processing Record 1 of Set 11 | ostrovnoy\n",
      "Processing Record 2 of Set 11 | manokwari\n",
      "Processing Record 3 of Set 11 | san lorenzo\n",
      "Processing Record 4 of Set 11 | alwar\n",
      "Processing Record 5 of Set 11 | monroe\n",
      "Processing Record 6 of Set 11 | kirovohrad\n",
      "Processing Record 7 of Set 11 | santa rosa\n",
      "Processing Record 8 of Set 11 | hauterive\n",
      "Processing Record 9 of Set 11 | nagato\n",
      "Processing Record 10 of Set 11 | filadelfia\n",
      "achisay not found. Skipping....\n",
      "Processing Record 11 of Set 11 | povenets\n",
      "Processing Record 12 of Set 11 | tondano\n",
      "Processing Record 13 of Set 11 | casambalangan\n",
      "chagda not found. Skipping....\n",
      "Processing Record 14 of Set 11 | sisophon\n",
      "Processing Record 15 of Set 11 | llandrindod wells\n",
      "Processing Record 16 of Set 11 | katsuura\n",
      "Processing Record 17 of Set 11 | catio\n",
      "labutta not found. Skipping....\n",
      "Processing Record 18 of Set 11 | santiago del estero\n",
      "Processing Record 19 of Set 11 | tessalit\n",
      "Processing Record 20 of Set 11 | rumuruti\n",
      "Processing Record 21 of Set 11 | mecca\n",
      "Processing Record 22 of Set 11 | damaturu\n",
      "Processing Record 23 of Set 11 | taoudenni\n",
      "Processing Record 24 of Set 11 | tambun\n",
      "Processing Record 25 of Set 11 | maturin\n",
      "Processing Record 26 of Set 11 | basco\n",
      "Processing Record 27 of Set 11 | nizhniy ingash\n",
      "Processing Record 28 of Set 11 | saint-joseph\n",
      "Processing Record 29 of Set 11 | kahama\n",
      "Processing Record 30 of Set 11 | port hedland\n",
      "Processing Record 31 of Set 11 | vestmannaeyjar\n",
      "Processing Record 32 of Set 11 | hyeres\n",
      "ruatoria not found. Skipping....\n",
      "Processing Record 33 of Set 11 | inhambane\n",
      "Processing Record 34 of Set 11 | puhja\n",
      "Processing Record 35 of Set 11 | ozd\n",
      "Processing Record 36 of Set 11 | halifax\n",
      "Processing Record 37 of Set 11 | sorland\n",
      "Processing Record 38 of Set 11 | palmer\n",
      "Processing Record 39 of Set 11 | gotha\n",
      "Processing Record 40 of Set 11 | zolotkovo\n",
      "Processing Record 41 of Set 11 | flinders\n",
      "Processing Record 42 of Set 11 | paragominas\n",
      "Processing Record 43 of Set 11 | pictou\n",
      "Processing Record 44 of Set 11 | san jeronimo\n",
      "Processing Record 45 of Set 11 | majene\n",
      "Processing Record 0 of Set 12 | vardo\n",
      "Processing Record 1 of Set 12 | new haven\n",
      "Processing Record 2 of Set 12 | neuquen\n",
      "Processing Record 3 of Set 12 | bairiki\n",
      "Processing Record 4 of Set 12 | gobabis\n",
      "Processing Record 5 of Set 12 | ryotsu\n",
      "Processing Record 6 of Set 12 | sao joao da barra\n",
      "Processing Record 7 of Set 12 | ciudad bolivar\n",
      "Processing Record 8 of Set 12 | pemangkat\n",
      "Processing Record 9 of Set 12 | plettenberg bay\n",
      "Processing Record 10 of Set 12 | fort thomas\n",
      "Processing Record 11 of Set 12 | gopamau\n",
      "taburi not found. Skipping....\n",
      "Processing Record 12 of Set 12 | pokhara\n",
      "Processing Record 13 of Set 12 | doha\n",
      "Processing Record 14 of Set 12 | porto novo\n",
      "Processing Record 15 of Set 12 | nouadhibou\n",
      "Processing Record 16 of Set 12 | ust-kuyga\n",
      "Processing Record 17 of Set 12 | tocopilla\n",
      "Processing Record 18 of Set 12 | bacong\n",
      "ho not found. Skipping....\n",
      "Processing Record 19 of Set 12 | portland\n",
      "Processing Record 20 of Set 12 | natal\n",
      "Processing Record 21 of Set 12 | namibe\n",
      "Processing Record 22 of Set 12 | kjopsvik\n",
      "Processing Record 23 of Set 12 | sayan\n",
      "Processing Record 24 of Set 12 | port lincoln\n",
      "Processing Record 25 of Set 12 | sur\n",
      "Processing Record 26 of Set 12 | gamboma\n",
      "Processing Record 27 of Set 12 | guaruja\n",
      "Processing Record 28 of Set 12 | tashtyp\n",
      "Processing Record 29 of Set 12 | tarusa\n",
      "Processing Record 30 of Set 12 | rio cuarto\n",
      "Processing Record 31 of Set 12 | comodoro rivadavia\n",
      "Processing Record 32 of Set 12 | namatanai\n",
      "Processing Record 33 of Set 12 | vicksburg\n",
      "Processing Record 34 of Set 12 | nome\n",
      "Processing Record 35 of Set 12 | ourem\n",
      "Processing Record 36 of Set 12 | osa\n",
      "Processing Record 37 of Set 12 | okha\n",
      "Processing Record 38 of Set 12 | massape\n",
      "tuggurt not found. Skipping....\n",
      "Processing Record 39 of Set 12 | zunyi\n",
      "Processing Record 40 of Set 12 | todos santos\n",
      "Processing Record 41 of Set 12 | isla vista\n",
      "Processing Record 42 of Set 12 | trairi\n",
      "louisbourg not found. Skipping....\n",
      "bolungarvik not found. Skipping....\n",
      "Processing Record 43 of Set 12 | gorontalo\n",
      "Processing Record 44 of Set 12 | meulaboh\n",
      "Processing Record 0 of Set 13 | buta\n",
      "Processing Record 1 of Set 13 | vostok\n",
      "Processing Record 2 of Set 13 | margate\n",
      "Processing Record 3 of Set 13 | zaozerne\n",
      "Processing Record 4 of Set 13 | buchanan\n",
      "Processing Record 5 of Set 13 | phalaborwa\n",
      "Processing Record 6 of Set 13 | calvinia\n",
      "Processing Record 7 of Set 13 | konstantinovka\n",
      "Processing Record 8 of Set 13 | murray bridge\n",
      "Processing Record 9 of Set 13 | waitati\n",
      "Processing Record 10 of Set 13 | alta\n",
      "Processing Record 11 of Set 13 | anloga\n",
      "Processing Record 12 of Set 13 | cap malheureux\n",
      "Processing Record 13 of Set 13 | flin flon\n",
      "babanusah not found. Skipping....\n",
      "Processing Record 14 of Set 13 | campos novos\n",
      "Processing Record 15 of Set 13 | kuvandyk\n",
      "Processing Record 16 of Set 13 | bunia\n",
      "Processing Record 17 of Set 13 | mwanza\n",
      "Processing Record 18 of Set 13 | coolum beach\n",
      "Processing Record 19 of Set 13 | sao filipe\n",
      "Processing Record 20 of Set 13 | bekhtery\n",
      "Processing Record 21 of Set 13 | broken hill\n",
      "Processing Record 22 of Set 13 | hlobyne\n",
      "Processing Record 23 of Set 13 | asau\n",
      "Processing Record 24 of Set 13 | drumheller\n",
      "Processing Record 25 of Set 13 | bathsheba\n",
      "Processing Record 26 of Set 13 | devils lake\n",
      "Processing Record 27 of Set 13 | dryden\n",
      "Processing Record 28 of Set 13 | binga\n",
      "Processing Record 29 of Set 13 | owando\n",
      "Processing Record 30 of Set 13 | viedma\n",
      "paramithia not found. Skipping....\n",
      "Processing Record 31 of Set 13 | half moon bay\n"
     ]
    }
   ],
   "source": [
    "#base url\n",
    "#url = \"http://api.openweathermap.org/data/2.5/weather?units=imperial&appid=(weather_api_key)&q=\" #+ city\n",
    "url = \"http://api.openweathermap.org/data/2.5/weather?\"\n",
    "units = \"imperial\"\n",
    "query_url = f\"{url}appid={weather_api_key}&units={units}&q=\"\n",
    "\n",
    "#list of city data\n",
    "cityname=[]\n",
    "Lat = []\n",
    "Long = []\n",
    "temp = []\n",
    "Humidity = []\n",
    "Clouds = []\n",
    "Speed = []\n",
    "Date = [ ]\n",
    "#grouping variables\n",
    "set_count =1 # group\n",
    "record = 1 # record within the group\n",
    "\n",
    "print (\"Beginning Data Retrieval\")\n",
    "print(\"-----------------------\")\n",
    "      \n",
    "for i, city in enumerate(cities):\n",
    "    #group the cities in sets of 50\n",
    "    if(i % 50 == 0 and i >= 50):\n",
    "        set_count += 1 # make a new group\n",
    "        record = 0 #reset the count of records in the new group\n",
    "      \n",
    "    # outpout the record and group and name of the city being processed from the list of cities\n",
    "    #print(f\"Processing Record {record} of Set {set_count} | {city}\")\n",
    "    \n",
    "    #increase the record count within the set\n",
    "   \n",
    "   \n",
    "    # create a url that includes the city\n",
    "    cityURL = query_url + city\n",
    "    \n",
    "    # call the openweather API and make a request\n",
    "    try:\n",
    "        \n",
    "        cityweather = requests.get(cityURL).json()\n",
    "        #print(cityweather)\n",
    "        \n",
    "        lat = cityweather[\"coord\"][\"lat\"]\n",
    "        #print(lat)\n",
    "        lng = cityweather[\"coord\"][\"lon\"]\n",
    "        #print(lng)\n",
    "        maxtem = cityweather[\"main\"][\"temp_max\"]\n",
    "        #print(maxtem)\n",
    "        humidity = cityweather[\"main\"][\"humidity\"]\n",
    "        #print(humidity)\n",
    "        cloudiness = cityweather[\"clouds\"][\"all\"]\n",
    "        #print(cloudiness)\n",
    "        windspeed = cityweather[\"wind\"][\"speed\"]\n",
    "        #print(windspeed)\n",
    "        date = cityweather[\"dt\"]\n",
    "        #print(date)\n",
    "       \n",
    "        cityname.append(city)\n",
    "        \n",
    "        Lat.append(lat)\n",
    "       \n",
    "        Long.append(lng)\n",
    "       \n",
    "        temp.append(maxtem)\n",
    "        \n",
    "        Humidity.append(humidity)\n",
    "       \n",
    "        Speed.append(windspeed)\n",
    "        \n",
    "        Clouds.append(cloudiness)\n",
    "       \n",
    "        Date.append(date)\n",
    "       \n",
    "        print(f\"Processing Record {record} of Set {set_count} | {city}\") \n",
    "        record+=1\n",
    "        \n",
    "    except:\n",
    "        print(f\"{city} not found. Skipping....\")\n",
    "        \n",
    "  "
   ]
  },
  {
   "cell_type": "markdown",
   "metadata": {
    "id": "Chw44h9XcZnV"
   },
   "source": [
    "### Convert Raw Data to DataFrame\n",
    "* Export the city data into a .csv.\n",
    "* Display the DataFrame"
   ]
  },
  {
   "cell_type": "code",
   "execution_count": 15,
   "metadata": {
    "colab": {
     "base_uri": "https://localhost:8080/",
     "height": 200
    },
    "id": "6-62BbbtelJe",
    "outputId": "f8324a1e-d961-4197-b710-b91d66bb1161"
   },
   "outputs": [
    {
     "data": {
      "text/html": [
       "<div>\n",
       "<style scoped>\n",
       "    .dataframe tbody tr th:only-of-type {\n",
       "        vertical-align: middle;\n",
       "    }\n",
       "\n",
       "    .dataframe tbody tr th {\n",
       "        vertical-align: top;\n",
       "    }\n",
       "\n",
       "    .dataframe thead th {\n",
       "        text-align: right;\n",
       "    }\n",
       "</style>\n",
       "<table border=\"1\" class=\"dataframe\">\n",
       "  <thead>\n",
       "    <tr style=\"text-align: right;\">\n",
       "      <th></th>\n",
       "      <th>City</th>\n",
       "      <th>Lat</th>\n",
       "      <th>Lng</th>\n",
       "      <th>Max Temp</th>\n",
       "      <th>Humidity</th>\n",
       "      <th>Cloudiness</th>\n",
       "      <th>Wind Speed</th>\n",
       "      <th>Country Date</th>\n",
       "    </tr>\n",
       "  </thead>\n",
       "  <tbody>\n",
       "    <tr>\n",
       "      <th>0</th>\n",
       "      <td>hobyo</td>\n",
       "      <td>5.3505</td>\n",
       "      <td>48.5268</td>\n",
       "      <td>83.07</td>\n",
       "      <td>62</td>\n",
       "      <td>44</td>\n",
       "      <td>29.48</td>\n",
       "      <td>1627112543</td>\n",
       "    </tr>\n",
       "    <tr>\n",
       "      <th>1</th>\n",
       "      <td>coquimbo</td>\n",
       "      <td>-29.9533</td>\n",
       "      <td>-71.3436</td>\n",
       "      <td>51.53</td>\n",
       "      <td>93</td>\n",
       "      <td>90</td>\n",
       "      <td>1.14</td>\n",
       "      <td>1627112544</td>\n",
       "    </tr>\n",
       "    <tr>\n",
       "      <th>2</th>\n",
       "      <td>kaitangata</td>\n",
       "      <td>-46.2817</td>\n",
       "      <td>169.8464</td>\n",
       "      <td>45.93</td>\n",
       "      <td>71</td>\n",
       "      <td>100</td>\n",
       "      <td>6.35</td>\n",
       "      <td>1627112546</td>\n",
       "    </tr>\n",
       "    <tr>\n",
       "      <th>3</th>\n",
       "      <td>chuy</td>\n",
       "      <td>-33.6971</td>\n",
       "      <td>-53.4616</td>\n",
       "      <td>54.64</td>\n",
       "      <td>91</td>\n",
       "      <td>5</td>\n",
       "      <td>4.32</td>\n",
       "      <td>1627112546</td>\n",
       "    </tr>\n",
       "    <tr>\n",
       "      <th>4</th>\n",
       "      <td>kanniyakumari</td>\n",
       "      <td>8.0833</td>\n",
       "      <td>77.5667</td>\n",
       "      <td>82.17</td>\n",
       "      <td>74</td>\n",
       "      <td>96</td>\n",
       "      <td>20.33</td>\n",
       "      <td>1627112548</td>\n",
       "    </tr>\n",
       "  </tbody>\n",
       "</table>\n",
       "</div>"
      ],
      "text/plain": [
       "            City      Lat       Lng  ...  Cloudiness  Wind Speed  Country Date\n",
       "0          hobyo   5.3505   48.5268  ...          44       29.48    1627112543\n",
       "1       coquimbo -29.9533  -71.3436  ...          90        1.14    1627112544\n",
       "2     kaitangata -46.2817  169.8464  ...         100        6.35    1627112546\n",
       "3           chuy -33.6971  -53.4616  ...           5        4.32    1627112546\n",
       "4  kanniyakumari   8.0833   77.5667  ...          96       20.33    1627112548\n",
       "\n",
       "[5 rows x 8 columns]"
      ]
     },
     "execution_count": 15,
     "metadata": {
      "tags": []
     },
     "output_type": "execute_result"
    }
   ],
   "source": [
    "weather = {'City': cityname , \t'Lat' : Lat , \t'Lng' :Long\t,'Max Temp':temp , \n",
    "           'Humidity' :Humidity , \t'Cloudiness':Clouds , 'Wind Speed' : Speed,\t'Country Date' : Date}\n",
    "data = pd.DataFrame(weather)\n",
    "data.head()"
   ]
  },
  {
   "cell_type": "code",
   "execution_count": 16,
   "metadata": {
    "colab": {
     "base_uri": "https://localhost:8080/",
     "height": 290
    },
    "id": "RTBz1OObelyT",
    "outputId": "b3462f1d-299a-4b5e-df86-b7b91a10c796"
   },
   "outputs": [
    {
     "data": {
      "text/html": [
       "<div>\n",
       "<style scoped>\n",
       "    .dataframe tbody tr th:only-of-type {\n",
       "        vertical-align: middle;\n",
       "    }\n",
       "\n",
       "    .dataframe tbody tr th {\n",
       "        vertical-align: top;\n",
       "    }\n",
       "\n",
       "    .dataframe thead th {\n",
       "        text-align: right;\n",
       "    }\n",
       "</style>\n",
       "<table border=\"1\" class=\"dataframe\">\n",
       "  <thead>\n",
       "    <tr style=\"text-align: right;\">\n",
       "      <th></th>\n",
       "      <th>Lat</th>\n",
       "      <th>Lng</th>\n",
       "      <th>Max Temp</th>\n",
       "      <th>Humidity</th>\n",
       "      <th>Cloudiness</th>\n",
       "      <th>Wind Speed</th>\n",
       "      <th>Country Date</th>\n",
       "    </tr>\n",
       "  </thead>\n",
       "  <tbody>\n",
       "    <tr>\n",
       "      <th>count</th>\n",
       "      <td>585.000000</td>\n",
       "      <td>585.000000</td>\n",
       "      <td>585.000000</td>\n",
       "      <td>585.000000</td>\n",
       "      <td>585.000000</td>\n",
       "      <td>585.000000</td>\n",
       "      <td>5.850000e+02</td>\n",
       "    </tr>\n",
       "    <tr>\n",
       "      <th>mean</th>\n",
       "      <td>18.935953</td>\n",
       "      <td>16.463671</td>\n",
       "      <td>69.931333</td>\n",
       "      <td>67.914530</td>\n",
       "      <td>51.745299</td>\n",
       "      <td>8.331812</td>\n",
       "      <td>1.627113e+09</td>\n",
       "    </tr>\n",
       "    <tr>\n",
       "      <th>std</th>\n",
       "      <td>33.851545</td>\n",
       "      <td>87.867517</td>\n",
       "      <td>14.585528</td>\n",
       "      <td>21.183467</td>\n",
       "      <td>41.011547</td>\n",
       "      <td>6.155845</td>\n",
       "      <td>1.687465e+02</td>\n",
       "    </tr>\n",
       "    <tr>\n",
       "      <th>min</th>\n",
       "      <td>-54.800000</td>\n",
       "      <td>-175.200000</td>\n",
       "      <td>33.330000</td>\n",
       "      <td>8.000000</td>\n",
       "      <td>0.000000</td>\n",
       "      <td>0.000000</td>\n",
       "      <td>1.627112e+09</td>\n",
       "    </tr>\n",
       "    <tr>\n",
       "      <th>25%</th>\n",
       "      <td>-8.836800</td>\n",
       "      <td>-59.533300</td>\n",
       "      <td>60.030000</td>\n",
       "      <td>53.000000</td>\n",
       "      <td>5.000000</td>\n",
       "      <td>3.960000</td>\n",
       "      <td>1.627113e+09</td>\n",
       "    </tr>\n",
       "    <tr>\n",
       "      <th>50%</th>\n",
       "      <td>22.285500</td>\n",
       "      <td>19.776000</td>\n",
       "      <td>71.130000</td>\n",
       "      <td>71.000000</td>\n",
       "      <td>54.000000</td>\n",
       "      <td>6.910000</td>\n",
       "      <td>1.627113e+09</td>\n",
       "    </tr>\n",
       "    <tr>\n",
       "      <th>75%</th>\n",
       "      <td>49.387800</td>\n",
       "      <td>92.135800</td>\n",
       "      <td>80.980000</td>\n",
       "      <td>86.000000</td>\n",
       "      <td>95.000000</td>\n",
       "      <td>10.890000</td>\n",
       "      <td>1.627113e+09</td>\n",
       "    </tr>\n",
       "    <tr>\n",
       "      <th>max</th>\n",
       "      <td>78.218600</td>\n",
       "      <td>179.316700</td>\n",
       "      <td>106.110000</td>\n",
       "      <td>100.000000</td>\n",
       "      <td>100.000000</td>\n",
       "      <td>37.980000</td>\n",
       "      <td>1.627113e+09</td>\n",
       "    </tr>\n",
       "  </tbody>\n",
       "</table>\n",
       "</div>"
      ],
      "text/plain": [
       "              Lat         Lng    Max Temp  ...  Cloudiness  Wind Speed  Country Date\n",
       "count  585.000000  585.000000  585.000000  ...  585.000000  585.000000  5.850000e+02\n",
       "mean    18.935953   16.463671   69.931333  ...   51.745299    8.331812  1.627113e+09\n",
       "std     33.851545   87.867517   14.585528  ...   41.011547    6.155845  1.687465e+02\n",
       "min    -54.800000 -175.200000   33.330000  ...    0.000000    0.000000  1.627112e+09\n",
       "25%     -8.836800  -59.533300   60.030000  ...    5.000000    3.960000  1.627113e+09\n",
       "50%     22.285500   19.776000   71.130000  ...   54.000000    6.910000  1.627113e+09\n",
       "75%     49.387800   92.135800   80.980000  ...   95.000000   10.890000  1.627113e+09\n",
       "max     78.218600  179.316700  106.110000  ...  100.000000   37.980000  1.627113e+09\n",
       "\n",
       "[8 rows x 7 columns]"
      ]
     },
     "execution_count": 16,
     "metadata": {
      "tags": []
     },
     "output_type": "execute_result"
    }
   ],
   "source": [
    "data.describe()"
   ]
  },
  {
   "cell_type": "code",
   "execution_count": 17,
   "metadata": {
    "id": "WInknjEvcZnV"
   },
   "outputs": [],
   "source": [
    "data.to_csv('weather_data.csv')"
   ]
  },
  {
   "cell_type": "code",
   "execution_count": null,
   "metadata": {
    "id": "MjBl4E7TcZnW"
   },
   "outputs": [],
   "source": [
    ""
   ]
  },
  {
   "cell_type": "markdown",
   "metadata": {
    "id": "E23x_gyIcZnW"
   },
   "source": [
    "## Inspect the data and remove the cities where the humidity > 100%.\n",
    "----\n",
    "Skip this step if there are no cities that have humidity > 100%. "
   ]
  },
  {
   "cell_type": "code",
   "execution_count": 18,
   "metadata": {
    "id": "aaoD85x0cZnX"
   },
   "outputs": [],
   "source": [
    "city_data = data"
   ]
  },
  {
   "cell_type": "code",
   "execution_count": 19,
   "metadata": {
    "id": "z-c8KnN0cZnX"
   },
   "outputs": [],
   "source": [
    "#  Get the indices of cities that have humidity over 100%.\n",
    "indices = city_data[city_data['Humidity']>= 100].index"
   ]
  },
  {
   "cell_type": "code",
   "execution_count": 21,
   "metadata": {
    "id": "QJw1CLgWcZnY"
   },
   "outputs": [],
   "source": [
    "# Make a new DataFrame equal to the city data to drop all humidity outliers by index.\n",
    "# Passing \"inplace=False\" will make a copy of the city_data DataFrame, which we call \"clean_city_data\".\n",
    "clean_city_data = city_data.drop(list(indices), inplace = False)"
   ]
  },
  {
   "cell_type": "markdown",
   "metadata": {
    "id": "5wnCiNGqcZnZ"
   },
   "source": [
    "## Plotting the Data\n",
    "* Use proper labeling of the plots using plot titles (including date of analysis) and axes labels.\n",
    "* Save the plotted figures as .pngs."
   ]
  },
  {
   "cell_type": "markdown",
   "metadata": {
    "id": "lDijgYS2cZnZ"
   },
   "source": [
    "## Latitude vs. Temperature Plot"
   ]
  },
  {
   "cell_type": "code",
   "execution_count": 22,
   "metadata": {
    "colab": {
     "base_uri": "https://localhost:8080/",
     "height": 311
    },
    "id": "edVTJpUHcZna",
    "outputId": "bbc03791-2cb9-4d49-ad3d-b80643f0f717",
    "scrolled": true
   },
   "outputs": [
    {
     "data": {
      "text/plain": [
       "Text(0, 0.5, 'Maxt Temperature')"
      ]
     },
     "execution_count": 22,
     "metadata": {
      "tags": []
     },
     "output_type": "execute_result"
    },
    {
     "data": {
      "image/png": "[encoded data removed]",
      "text/plain": [
       "<Figure size 432x288 with 1 Axes>"
      ]
     },
     "metadata": {
      "needs_background": "light",
      "tags": []
     },
     "output_type": "display_data"
    }
   ],
   "source": [
    "date = dt.date.today().strftime(\"%m/%d/%y\")\n",
    "plt.scatter(clean_city_data['Lat'] , clean_city_data['Max Temp'] , marker = 'o' , edgecolors = 'k' ,s = 20 , alpha = 0.75)\n",
    "plt.title('citylatitude vs. Max Temperature ({})'.format(date))\n",
    "plt.xlabel('Latitude')\n",
    "plt.ylabel('Maxt Temperature')"
   ]
  },
  {
   "cell_type": "markdown",
   "metadata": {
    "id": "JQtU9cx5iFrP"
   },
   "source": [
    "Temperature are on the lower side if the latitude is extreme lower or extreme higher. The temperature can vary from normal to high if we have latitude between -40 and 60"
   ]
  },
  {
   "cell_type": "markdown",
   "metadata": {
    "id": "lpuszay-cZna"
   },
   "source": [
    "## Latitude vs. Humidity Plot"
   ]
  },
  {
   "cell_type": "code",
   "execution_count": 34,
   "metadata": {
    "colab": {
     "base_uri": "https://localhost:8080/",
     "height": 295
    },
    "id": "eGaErK4rcZnb",
    "outputId": "e5c646ba-f86f-4422-c570-8bd7f30ccd35"
   },
   "outputs": [
    {
     "data": {
      "image/png": "[encoded data removed]",
      "text/plain": [
       "<Figure size 432x288 with 1 Axes>"
      ]
     },
     "metadata": {
      "needs_background": "light",
      "tags": []
     },
     "output_type": "display_data"
    }
   ],
   "source": [
    "# Build a scatter plot for each data type\n",
    "plt.scatter(clean_city_data[\"Lat\"], clean_city_data[\"Humidity\"], marker=\"o\")\n",
    "\n",
    "# Incorporate the other graph properties\n",
    "plt.title(f'City Latitude vs. Humidity {time.strftime(\"%m/%d/%Y\")}')\n",
    "plt.ylabel(\"Humidity\")\n",
    "plt.xlabel(\"Latitude\")\n",
    "plt.grid(True)\n",
    "\n",
    "# Save the figure\n",
    "plt.savefig(\"../output_data/City Latitude vs. Humidity.png\")\n",
    "\n",
    "# Show plot\n",
    "plt.show()\n"
   ]
  },
  {
   "cell_type": "markdown",
   "metadata": {
    "id": "MHC8-LrFi2Ce"
   },
   "source": [
    "There is no defined pattern we find when it comes to plotting latitude and humidity in this dataset. According to the plot, we can have variety of humidity levels irrespective of latitude\n"
   ]
  },
  {
   "cell_type": "markdown",
   "metadata": {
    "id": "AudxAVZpcZnb"
   },
   "source": [
    "## Latitude vs. Cloudiness Plot"
   ]
  },
  {
   "cell_type": "code",
   "execution_count": 35,
   "metadata": {
    "colab": {
     "base_uri": "https://localhost:8080/",
     "height": 295
    },
    "id": "iKGe2EjJcZnb",
    "outputId": "db255bcd-9da0-41bb-e481-fc40c5a87e92"
   },
   "outputs": [
    {
     "data": {
      "image/png": "[encoded data removed]",
      "text/plain": [
       "<Figure size 432x288 with 1 Axes>"
      ]
     },
     "metadata": {
      "needs_background": "light",
      "tags": []
     },
     "output_type": "display_data"
    }
   ],
   "source": [
    "# Build a scatter plot for each data type\n",
    "plt.scatter(clean_city_data[\"Lat\"], clean_city_data[\"Cloudiness\"], marker=\"o\")\n",
    "\n",
    "# Incorporate the other graph properties\n",
    "plt.title(f'City Latitude vs. Max Cloudiness {time.strftime(\"%m/%d/%Y\")}')\n",
    "plt.ylabel(\"Cloudiness\")\n",
    "plt.xlabel(\"Latitude\")\n",
    "plt.grid(True) \n",
    "\n",
    "# Save the figure\n",
    "plt.savefig(\"../output_data/City Latitude vs. Cloudiness.png\")\n",
    "\n",
    "# Show plot\n",
    "plt.show()"
   ]
  },
  {
   "cell_type": "markdown",
   "metadata": {
    "id": "5a87WfDhj4YR"
   },
   "source": [
    "Some of the areas are very cloudy and some of them are just not very cloudy. There is very few cities having arbitrary cloudiness. They don't really depend upon latitude according to this plot"
   ]
  },
  {
   "cell_type": "markdown",
   "metadata": {
    "id": "MoekC7DCcZnc"
   },
   "source": [
    "## Latitude vs. Wind Speed Plot"
   ]
  },
  {
   "cell_type": "code",
   "execution_count": 36,
   "metadata": {
    "colab": {
     "base_uri": "https://localhost:8080/",
     "height": 295
    },
    "id": "QeLbl32-cZnc",
    "outputId": "0a1b114a-e309-4e21-d6c2-f1b933cdaf12"
   },
   "outputs": [
    {
     "data": {
      "image/png": "[encoded data removed]",
      "text/plain": [
       "<Figure size 432x288 with 1 Axes>"
      ]
     },
     "metadata": {
      "needs_background": "light",
      "tags": []
     },
     "output_type": "display_data"
    }
   ],
   "source": [
    "# Build a scatter plot for each data type\n",
    "plt.scatter(clean_city_data[\"Lat\"], clean_city_data[\"Wind Speed\"], marker=\"o\")\n",
    "\n",
    "# Incorporate the other graph properties\n",
    "plt.title(f'City Latitude vs. Wind Speed {time.strftime(\"%m/%d/%Y\")}')\n",
    "plt.ylabel(\"Wind Speed\")\n",
    "plt.xlabel(\"Latitude\")\n",
    "plt.grid(True)\n",
    "\n",
    "# Save the figure\n",
    "plt.savefig(\"../output_data/City Latitude vs. Wind Speed.png\")\n",
    "\n",
    "# Show plot\n",
    "plt.show()"
   ]
  },
  {
   "cell_type": "markdown",
   "metadata": {
    "id": "jxhOF26zkbcD"
   },
   "source": [
    "Most of the cities have windspeed in the range of 5 to 20 mph. There are very few cities having windspeed greater than 20 mph. "
   ]
  },
  {
   "cell_type": "markdown",
   "metadata": {
    "id": "qRtPLB08cZnd"
   },
   "source": [
    "## Linear Regression"
   ]
  },
  {
   "cell_type": "code",
   "execution_count": 61,
   "metadata": {
    "id": "Y57JRYpBcZnd"
   },
   "outputs": [],
   "source": [
    "from sklearn.linear_model import LinearRegression\n",
    "from sklearn.metrics import mean_squared_error, r2_score\n",
    "## Initializing linear regression model\n",
    "regr = LinearRegression()\n",
    "## segregating northern hemisphere and southern hemisphere data\n",
    "north_data = clean_city_data[clean_city_data['Lat']>=0]\n",
    "south_data = clean_city_data[clean_city_data['Lat']<0]"
   ]
  },
  {
   "cell_type": "markdown",
   "metadata": {
    "id": "UQQpaMNbcZnd"
   },
   "source": [
    "####  Northern Hemisphere - Max Temp vs. Latitude Linear Regression"
   ]
  },
  {
   "cell_type": "code",
   "execution_count": 75,
   "metadata": {
    "colab": {
     "base_uri": "https://localhost:8080/",
     "height": 343
    },
    "id": "KGjjWcOgcZne",
    "outputId": "2fa9416c-9fcd-453b-cff8-7288c7b4b0ea"
   },
   "outputs": [
    {
     "name": "stdout",
     "output_type": "stream",
     "text": [
      "Coefficients: \n",
      " [-0.44865677]\n",
      "Mean squared error: 118.93\n",
      "Coefficient of determination: 0.40\n"
     ]
    },
    {
     "data": {
      "image/png": "[encoded data removed]",
      "text/plain": [
       "<Figure size 432x288 with 1 Axes>"
      ]
     },
     "metadata": {
      "tags": []
     },
     "output_type": "display_data"
    },
    {
     "data": {
      "text/plain": [
       "<Figure size 432x288 with 0 Axes>"
      ]
     },
     "metadata": {
      "tags": []
     },
     "output_type": "display_data"
    }
   ],
   "source": [
    "# Train the model using the data\n",
    "regr.fit(pd.DataFrame(north_data['Lat']), north_data['Max Temp'])\n",
    "y_pred = regr.predict(pd.DataFrame(north_data['Lat']))\n",
    "\n",
    "# The coefficients\n",
    "print('Coefficients: \\n', regr.coef_)\n",
    "# The mean squared error\n",
    "print('Mean squared error: %.2f'\n",
    "      % mean_squared_error(north_data['Max Temp'], y_pred))\n",
    "# The coefficient of determination: 1 is perfect prediction\n",
    "print('Coefficient of determination: %.2f'\n",
    "      % r2_score(north_data['Max Temp'], y_pred))\n",
    "\n",
    "# Plot outputs\n",
    "plt.scatter(north_data['Lat'], north_data['Max Temp'],  color='black')\n",
    "plt.plot(north_data['Lat'], y_pred, color='blue', linewidth=3)\n",
    "\n",
    "plt.xticks(())\n",
    "plt.yticks(())\n",
    "plt.xlabel('Latitude')\n",
    "plt.ylabel('Maxt Temperature')\n",
    "plt.show()\n",
    "\n",
    "plt.savefig(\"../output_data/Regression_LatitudeVsTemperature_NorthernHemisphere.png\")"
   ]
  },
  {
   "cell_type": "markdown",
   "metadata": {
    "id": "IREbekr9p-lf"
   },
   "source": [
    "It's a decreasing trend as the latitude get's higher the max temperature starts to get lower. Moreever they both are inversly proportional to each other having decreasing coefficient of 0.40. Regression is modeling this trend by plotting stright line with the equation Temperature=m*Latitude with it's slope being -0.44. "
   ]
  },
  {
   "cell_type": "markdown",
   "metadata": {
    "id": "idtU_t8DcZne"
   },
   "source": [
    "####  Southern Hemisphere - Max Temp vs. Latitude Linear Regression"
   ]
  },
  {
   "cell_type": "code",
   "execution_count": 76,
   "metadata": {
    "colab": {
     "base_uri": "https://localhost:8080/",
     "height": 343
    },
    "id": "jVyJXzi0cZne",
    "outputId": "9104d5d7-9790-4518-a5b8-b8887afd01c2"
   },
   "outputs": [
    {
     "name": "stdout",
     "output_type": "stream",
     "text": [
      "Coefficients: \n",
      " [0.81554134]\n",
      "Mean squared error: 60.72\n",
      "Coefficient of determination: 0.68\n"
     ]
    },
    {
     "data": {
      "image/png": "[encoded data removed]",
      "text/plain": [
       "<Figure size 432x288 with 1 Axes>"
      ]
     },
     "metadata": {
      "tags": []
     },
     "output_type": "display_data"
    },
    {
     "data": {
      "text/plain": [
       "<Figure size 432x288 with 0 Axes>"
      ]
     },
     "metadata": {
      "tags": []
     },
     "output_type": "display_data"
    }
   ],
   "source": [
    "# Train the model using the data\n",
    "regr.fit(pd.DataFrame(south_data['Lat']), south_data['Max Temp'])\n",
    "y_pred = regr.predict(pd.DataFrame(south_data['Lat']))\n",
    "\n",
    "# The coefficients\n",
    "print('Coefficients: \\n', regr.coef_)\n",
    "# The mean squared error\n",
    "print('Mean squared error: %.2f'\n",
    "      % mean_squared_error(south_data['Max Temp'], y_pred))\n",
    "# The coefficient of determination: 1 is perfect prediction\n",
    "print('Coefficient of determination: %.2f'\n",
    "      % r2_score(south_data['Max Temp'], y_pred))\n",
    "\n",
    "# Plot outputs\n",
    "plt.scatter(south_data['Lat'], south_data['Max Temp'],  color='black')\n",
    "plt.plot(south_data['Lat'], y_pred, color='blue', linewidth=3)\n",
    "\n",
    "plt.xticks(())\n",
    "plt.yticks(())\n",
    "plt.xlabel('Latitude')\n",
    "plt.ylabel('Maxt Temperature')\n",
    "plt.show()\n",
    "plt.savefig(\"../output_data/Regression_LatitudeVsTemperature_SouthernHemisphere.png\")"
   ]
  },
  {
   "cell_type": "markdown",
   "metadata": {
    "id": "QXOpHND0qm2_"
   },
   "source": [
    "It's a increasing trend as the latitude get's higher the max temperature starts get bigger. Moreever; they both are directly proportional to each other having increasing coefficient of 0.81. Regression is modeling this trend by plotting stright line with the equation Temperature=m*Latitude with it's slope being 0.81. "
   ]
  },
  {
   "cell_type": "markdown",
   "metadata": {
    "id": "OZihjKKDcZne"
   },
   "source": [
    "####  Northern Hemisphere - Humidity (%) vs. Latitude Linear Regression"
   ]
  },
  {
   "cell_type": "code",
   "execution_count": 77,
   "metadata": {
    "colab": {
     "base_uri": "https://localhost:8080/",
     "height": 343
    },
    "id": "hBS8ZE9YcZne",
    "outputId": "00f74f01-37e8-41de-90e8-e7a6d01fafd8"
   },
   "outputs": [
    {
     "name": "stdout",
     "output_type": "stream",
     "text": [
      "Coefficients: \n",
      " [-0.05201902]\n",
      "Mean squared error: 482.56\n",
      "Coefficient of determination: 0.00\n"
     ]
    },
    {
     "data": {
      "image/png": "[encoded data removed]",
      "text/plain": [
       "<Figure size 432x288 with 1 Axes>"
      ]
     },
     "metadata": {
      "tags": []
     },
     "output_type": "display_data"
    },
    {
     "data": {
      "text/plain": [
       "<Figure size 432x288 with 0 Axes>"
      ]
     },
     "metadata": {
      "tags": []
     },
     "output_type": "display_data"
    }
   ],
   "source": [
    "# Train the model using the data\n",
    "regr.fit(pd.DataFrame(north_data['Lat']), north_data['Humidity'])\n",
    "y_pred = regr.predict(pd.DataFrame(north_data['Lat']))\n",
    "\n",
    "# The coefficients\n",
    "print('Coefficients: \\n', regr.coef_)\n",
    "# The mean squared error\n",
    "print('Mean squared error: %.2f'\n",
    "      % mean_squared_error(north_data['Humidity'], y_pred))\n",
    "# The coefficient of determination: 1 is perfect prediction\n",
    "print('Coefficient of determination: %.2f'\n",
    "      % r2_score(north_data['Humidity'], y_pred))\n",
    "\n",
    "# Plot outputs\n",
    "plt.scatter(north_data['Lat'], north_data['Humidity'],  color='black')\n",
    "plt.plot(north_data['Lat'], y_pred, color='blue', linewidth=3)\n",
    "\n",
    "plt.xticks(())\n",
    "plt.yticks(())\n",
    "plt.xlabel('Latitude')\n",
    "plt.ylabel('Humidity')\n",
    "plt.show()\n",
    "plt.savefig(\"../output_data/Regression_LatitudeVsHumidity_NorthernHemisphere.png\")"
   ]
  },
  {
   "cell_type": "markdown",
   "metadata": {
    "id": "Oj-MGEbLxOKr"
   },
   "source": [
    "Regression is modeling arbitrary trend by plotting stright line with the equation Humidity=m*Latitude with it's slope being -0.05."
   ]
  },
  {
   "cell_type": "markdown",
   "metadata": {
    "id": "YZZ4qwA1cZnf"
   },
   "source": [
    "####  Southern Hemisphere - Humidity (%) vs. Latitude Linear Regression"
   ]
  },
  {
   "cell_type": "code",
   "execution_count": 78,
   "metadata": {
    "colab": {
     "base_uri": "https://localhost:8080/",
     "height": 343
    },
    "id": "441l9CyVcZnf",
    "outputId": "e1548034-31ce-4929-915d-d71c873f698d"
   },
   "outputs": [
    {
     "name": "stdout",
     "output_type": "stream",
     "text": [
      "Coefficients: \n",
      " [-0.03470111]\n",
      "Mean squared error: 354.33\n",
      "Coefficient of determination: 0.00\n"
     ]
    },
    {
     "data": {
      "image/png": "[encoded data removed]",
      "text/plain": [
       "<Figure size 432x288 with 1 Axes>"
      ]
     },
     "metadata": {
      "tags": []
     },
     "output_type": "display_data"
    },
    {
     "data": {
      "text/plain": [
       "<Figure size 432x288 with 0 Axes>"
      ]
     },
     "metadata": {
      "tags": []
     },
     "output_type": "display_data"
    }
   ],
   "source": [
    "# Train the model using the data\n",
    "regr.fit(pd.DataFrame(south_data['Lat']), south_data['Humidity'])\n",
    "y_pred = regr.predict(pd.DataFrame(south_data['Lat']))\n",
    "\n",
    "# The coefficients\n",
    "print('Coefficients: \\n', regr.coef_)\n",
    "# The mean squared error\n",
    "print('Mean squared error: %.2f'\n",
    "      % mean_squared_error(south_data['Humidity'], y_pred))\n",
    "# The coefficient of determination: 1 is perfect prediction\n",
    "print('Coefficient of determination: %.2f'\n",
    "      % r2_score(south_data['Humidity'], y_pred))\n",
    "\n",
    "# Plot outputs\n",
    "plt.scatter(south_data['Lat'], south_data['Humidity'],  color='black')\n",
    "plt.plot(south_data['Lat'], y_pred, color='blue', linewidth=3)\n",
    "\n",
    "plt.xticks(())\n",
    "plt.yticks(())\n",
    "plt.xlabel('Latitude')\n",
    "plt.ylabel('Humidity')\n",
    "plt.show()\n",
    "plt.savefig(\"../output_data/Regression_LatitudeVsHumidity_SouthernHemisphere.png\")"
   ]
  },
  {
   "cell_type": "markdown",
   "metadata": {
    "id": "I0tBkBAYxaKi"
   },
   "source": [
    "Regression is modeling arbitrary trend by plotting stright line with the equation Humidity=m*Latitude with it's slope being -0.034."
   ]
  },
  {
   "cell_type": "markdown",
   "metadata": {
    "id": "JORtgpu2cZnf"
   },
   "source": [
    "####  Northern Hemisphere - Cloudiness (%) vs. Latitude Linear Regression"
   ]
  },
  {
   "cell_type": "code",
   "execution_count": 79,
   "metadata": {
    "colab": {
     "base_uri": "https://localhost:8080/",
     "height": 343
    },
    "id": "tQEW1jZOcZnf",
    "outputId": "93797b24-61d5-4378-cc27-bd506fc69440"
   },
   "outputs": [
    {
     "name": "stdout",
     "output_type": "stream",
     "text": [
      "Coefficients: \n",
      " [0.04365371]\n",
      "Mean squared error: 1651.60\n",
      "Coefficient of determination: 0.00\n"
     ]
    },
    {
     "data": {
      "image/png": "[encoded data removed]",
      "text/plain": [
       "<Figure size 432x288 with 1 Axes>"
      ]
     },
     "metadata": {
      "tags": []
     },
     "output_type": "display_data"
    },
    {
     "data": {
      "text/plain": [
       "<Figure size 432x288 with 0 Axes>"
      ]
     },
     "metadata": {
      "tags": []
     },
     "output_type": "display_data"
    }
   ],
   "source": [
    "# Train the model using the data\n",
    "regr.fit(pd.DataFrame(north_data['Lat']), north_data['Cloudiness'])\n",
    "y_pred = regr.predict(pd.DataFrame(north_data['Lat']))\n",
    "\n",
    "# The coefficients\n",
    "print('Coefficients: \\n', regr.coef_)\n",
    "# The mean squared error\n",
    "print('Mean squared error: %.2f'\n",
    "      % mean_squared_error(north_data['Cloudiness'], y_pred))\n",
    "# The coefficient of determination: 1 is perfect prediction\n",
    "print('Coefficient of determination: %.2f'\n",
    "      % r2_score(north_data['Cloudiness'], y_pred))\n",
    "\n",
    "# Plot outputs\n",
    "plt.scatter(north_data['Lat'], north_data['Cloudiness'],  color='black')\n",
    "plt.plot(north_data['Lat'], y_pred, color='blue', linewidth=3)\n",
    "\n",
    "plt.xticks(())\n",
    "plt.yticks(())\n",
    "plt.xlabel('Latitude')\n",
    "plt.ylabel('Cloudiness')\n",
    "plt.show()\n",
    "plt.savefig(\"../output_data/Regression_LatitudeVsCloudiness_NorthernHemisphere.png\")"
   ]
  },
  {
   "cell_type": "markdown",
   "metadata": {
    "id": "O_Ugxy-Yxe4t"
   },
   "source": [
    "Regression is modeling arbitrary trend by plotting stright line with the equation Humidity=m*Latitude with it's slope being 0.04."
   ]
  },
  {
   "cell_type": "markdown",
   "metadata": {
    "id": "FqQA2M-KcZng"
   },
   "source": [
    "####  Southern Hemisphere - Cloudiness (%) vs. Latitude Linear Regression"
   ]
  },
  {
   "cell_type": "code",
   "execution_count": 80,
   "metadata": {
    "colab": {
     "base_uri": "https://localhost:8080/",
     "height": 343
    },
    "id": "XWDSi487cZng",
    "outputId": "990d79a8-76fa-44e0-d0d0-4f240ca1ad54"
   },
   "outputs": [
    {
     "name": "stdout",
     "output_type": "stream",
     "text": [
      "Coefficients: \n",
      " [-0.24394073]\n",
      "Mean squared error: 1500.77\n",
      "Coefficient of determination: 0.01\n"
     ]
    },
    {
     "data": {
      "image/png": "[encoded data removed]",
      "text/plain": [
       "<Figure size 432x288 with 1 Axes>"
      ]
     },
     "metadata": {
      "tags": []
     },
     "output_type": "display_data"
    },
    {
     "data": {
      "text/plain": [
       "<Figure size 432x288 with 0 Axes>"
      ]
     },
     "metadata": {
      "tags": []
     },
     "output_type": "display_data"
    }
   ],
   "source": [
    "\n",
    "# Train the model using the data\n",
    "regr.fit(pd.DataFrame(south_data['Lat']), south_data['Cloudiness'])\n",
    "y_pred = regr.predict(pd.DataFrame(south_data['Lat']))\n",
    "\n",
    "# The coefficients\n",
    "print('Coefficients: \\n', regr.coef_)\n",
    "# The mean squared error\n",
    "print('Mean squared error: %.2f'\n",
    "      % mean_squared_error(south_data['Cloudiness'], y_pred))\n",
    "# The coefficient of determination: 1 is perfect prediction\n",
    "print('Coefficient of determination: %.2f'\n",
    "      % r2_score(south_data['Cloudiness'], y_pred))\n",
    "\n",
    "# Plot outputs\n",
    "plt.scatter(south_data['Lat'], south_data['Cloudiness'],  color='black')\n",
    "plt.plot(south_data['Lat'], y_pred, color='blue', linewidth=3)\n",
    "\n",
    "plt.xticks(())\n",
    "plt.yticks(())\n",
    "plt.xlabel('Latitude')\n",
    "plt.ylabel('Cloudiness')\n",
    "plt.show()\n",
    "plt.savefig(\"../output_data/Regression_LatitudeVsCloudiness_SouthernHemisphere.png\")"
   ]
  },
  {
   "cell_type": "markdown",
   "metadata": {
    "id": "qt64leuSxir8"
   },
   "source": [
    "Regression is modeling arbitrary trend by plotting stright line with the equation Humidity=m*Latitude with it's slope being -0.243."
   ]
  },
  {
   "cell_type": "markdown",
   "metadata": {
    "id": "S6iZe2INcZng"
   },
   "source": [
    "####  Northern Hemisphere - Wind Speed (mph) vs. Latitude Linear Regression"
   ]
  },
  {
   "cell_type": "code",
   "execution_count": 81,
   "metadata": {
    "colab": {
     "base_uri": "https://localhost:8080/",
     "height": 343
    },
    "id": "da3i4XfacZng",
    "outputId": "57981c68-3490-4c9d-ec35-819e6946f366"
   },
   "outputs": [
    {
     "name": "stdout",
     "output_type": "stream",
     "text": [
      "Coefficients: \n",
      " [-0.03105668]\n",
      "Mean squared error: 39.66\n",
      "Coefficient of determination: 0.01\n"
     ]
    },
    {
     "data": {
      "image/png": "[encoded data removed]",
      "text/plain": [
       "<Figure size 432x288 with 1 Axes>"
      ]
     },
     "metadata": {
      "tags": []
     },
     "output_type": "display_data"
    },
    {
     "data": {
      "text/plain": [
       "<Figure size 432x288 with 0 Axes>"
      ]
     },
     "metadata": {
      "tags": []
     },
     "output_type": "display_data"
    }
   ],
   "source": [
    "# Train the model using the data\n",
    "regr.fit(pd.DataFrame(north_data['Lat']), north_data['Wind Speed'])\n",
    "y_pred = regr.predict(pd.DataFrame(north_data['Lat']))\n",
    "\n",
    "# The coefficients\n",
    "print('Coefficients: \\n', regr.coef_)\n",
    "# The mean squared error\n",
    "print('Mean squared error: %.2f'\n",
    "      % mean_squared_error(north_data['Wind Speed'], y_pred))\n",
    "# The coefficient of determination: 1 is perfect prediction\n",
    "print('Coefficient of determination: %.2f'\n",
    "      % r2_score(north_data['Wind Speed'], y_pred))\n",
    "\n",
    "# Plot outputs\n",
    "plt.scatter(north_data['Lat'], north_data['Wind Speed'],  color='black')\n",
    "plt.plot(north_data['Lat'], y_pred, color='blue', linewidth=3)\n",
    "\n",
    "plt.xticks(())\n",
    "plt.yticks(())\n",
    "plt.xlabel('Latitude')\n",
    "plt.ylabel('Wind Speed')\n",
    "plt.show()\n",
    "plt.savefig(\"../output_data/Regression_LatitudeVsWindSpeed_NorthernHemisphere.png\")"
   ]
  },
  {
   "cell_type": "markdown",
   "metadata": {
    "id": "bRIO5VTcxyXU"
   },
   "source": [
    "Regression is modeling arbitrary trend by plotting stright line with the equation Wind Speed=m*Latitude with it's slope being -0.03."
   ]
  },
  {
   "cell_type": "markdown",
   "metadata": {
    "id": "gpqKrpaBcZnh"
   },
   "source": [
    "####  Southern Hemisphere - Wind Speed (mph) vs. Latitude Linear Regression"
   ]
  },
  {
   "cell_type": "code",
   "execution_count": 82,
   "metadata": {
    "colab": {
     "base_uri": "https://localhost:8080/",
     "height": 343
    },
    "id": "Bk35Blc6cZnh",
    "outputId": "30dc3339-6d2f-4e2b-a43c-bba2db82baf9"
   },
   "outputs": [
    {
     "name": "stdout",
     "output_type": "stream",
     "text": [
      "Coefficients: \n",
      " [-0.00935512]\n",
      "Mean squared error: 33.51\n",
      "Coefficient of determination: 0.00\n"
     ]
    },
    {
     "data": {
      "image/png": "[encoded data removed]",
      "text/plain": [
       "<Figure size 432x288 with 1 Axes>"
      ]
     },
     "metadata": {
      "tags": []
     },
     "output_type": "display_data"
    },
    {
     "data": {
      "text/plain": [
       "<Figure size 432x288 with 0 Axes>"
      ]
     },
     "metadata": {
      "tags": []
     },
     "output_type": "display_data"
    }
   ],
   "source": [
    "# Train the model using the data\n",
    "regr.fit(pd.DataFrame(south_data['Lat']), south_data['Wind Speed'])\n",
    "y_pred = regr.predict(pd.DataFrame(south_data['Lat']))\n",
    "\n",
    "# The coefficients\n",
    "print('Coefficients: \\n', regr.coef_)\n",
    "# The mean squared error\n",
    "print('Mean squared error: %.2f'\n",
    "      % mean_squared_error(south_data['Wind Speed'], y_pred))\n",
    "# The coefficient of determination: 1 is perfect prediction\n",
    "print('Coefficient of determination: %.2f'\n",
    "      % r2_score(south_data['Wind Speed'], y_pred))\n",
    "\n",
    "# Plot outputs\n",
    "plt.scatter(south_data['Lat'], south_data['Wind Speed'],  color='black')\n",
    "plt.plot(south_data['Lat'], y_pred, color='blue', linewidth=3)\n",
    "\n",
    "plt.xticks(())\n",
    "plt.yticks(())\n",
    "plt.xlabel('Latitude')\n",
    "plt.ylabel('Wind Speed')\n",
    "plt.show()\n",
    "plt.savefig(\"../output_data/Regression_LatitudeVsWindSpeed_SouthernHemisphere.png\")"
   ]
  },
  {
   "cell_type": "markdown",
   "metadata": {
    "id": "cLMtKGD3x1zE"
   },
   "source": [
    "Regression is modeling arbitrary trend by plotting stright line with the equation Wind Speed=m*Latitude with it's slope being -0.009."
   ]
  },
  {
   "cell_type": "code",
   "execution_count": 82,
   "metadata": {
    "id": "34yHzxGOcZnh"
   },
   "outputs": [],
   "source": [
    ""
   ]
  }
 ],
 "metadata": {
  "anaconda-cloud": {},
  "colab": {
   "name": "WeatherPy.ipynb",
   "provenance": []
  },
  "kernel_info": {
   "name": "python3"
  },
  "kernelspec": {
   "display_name": "Python 3",
   "language": "python",
   "name": "python3"
  },
  "language_info": {
   "codemirror_mode": {
    "name": "ipython",
    "version": 3
   },
   "file_extension": ".py",
   "mimetype": "text/x-python",
   "name": "python",
   "nbconvert_exporter": "python",
   "pygments_lexer": "ipython3",
   "version": "3.8.5"
  },
  "latex_envs": {
   "LaTeX_envs_menu_present": true,
   "autoclose": false,
   "autocomplete": true,
   "bibliofile": "biblio.bib",
   "cite_by": "apalike",
   "current_citInitial": 1,
   "eqLabelWithNumbers": true,
   "eqNumInitial": 1,
   "hotkeys": {
    "equation": "Ctrl-E",
    "itemize": "Ctrl-I"
   },
   "labels_anchors": false,
   "latex_user_defs": false,
   "report_style_numbering": false,
   "user_envs_cfg": false
  },
  "nteract": {
   "version": "0.12.3"
  }
 },
 "nbformat": 4,
 "nbformat_minor": 0
}
